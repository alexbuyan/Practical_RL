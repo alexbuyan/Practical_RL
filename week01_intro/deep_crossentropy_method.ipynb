{
  "cells": [
    {
      "cell_type": "markdown",
      "metadata": {
        "id": "I_i1q1TWG9zH"
      },
      "source": [
        "# Deep Crossentropy method\n",
        "\n",
        "In this section we'll extend your CEM implementation with neural networks! You will train a multi-layer neural network to solve simple continuous state space games. __Please make sure you're done with tabular crossentropy method from the previous notebook.__\n",
        "\n",
        "![img](https://watanimg.elwatannews.com/old_news_images/large/249765_Large_20140709045740_11.jpg)\n",
        "\n"
      ]
    },
    {
      "cell_type": "code",
      "execution_count": 3,
      "metadata": {
        "id": "t4CJ1sRyG9zJ"
      },
      "outputs": [
        {
          "name": "stdout",
          "output_type": "stream",
          "text": [
            "Starting virtual X frame buffer: Xvfb../xvfb: line 24: start-stop-daemon: command not found\n",
            ".\n"
          ]
        }
      ],
      "source": [
        "import sys, os\n",
        "if 'google.colab' in sys.modules and not os.path.exists('.setup_complete'):\n",
        "    !wget -q https://raw.githubusercontent.com/yandexdataschool/Practical_RL/master/setup_colab.sh -O- | bash\n",
        "    !touch .setup_complete\n",
        "\n",
        "# This code creates a virtual display to draw game images on.\n",
        "# It will have no effect if your machine has a monitor.\n",
        "if type(os.environ.get(\"DISPLAY\")) is not str or len(os.environ.get(\"DISPLAY\")) == 0:\n",
        "    !bash ../xvfb start\n",
        "    os.environ['DISPLAY'] = ':1'"
      ]
    },
    {
      "cell_type": "code",
      "execution_count": 4,
      "metadata": {
        "id": "C2xd5vPwPVCb"
      },
      "outputs": [
        {
          "name": "stdout",
          "output_type": "stream",
          "text": [
            "Requirement already satisfied: gymnasium[classic_control,toy_text] in /Users/alexbuyan/miniconda3/envs/rl-env/lib/python3.11/site-packages (0.28.1)\n",
            "Requirement already satisfied: numpy>=1.21.0 in /Users/alexbuyan/miniconda3/envs/rl-env/lib/python3.11/site-packages (from gymnasium[classic_control,toy_text]) (1.26.4)\n",
            "Requirement already satisfied: jax-jumpy>=1.0.0 in /Users/alexbuyan/miniconda3/envs/rl-env/lib/python3.11/site-packages (from gymnasium[classic_control,toy_text]) (1.0.0)\n",
            "Requirement already satisfied: cloudpickle>=1.2.0 in /Users/alexbuyan/miniconda3/envs/rl-env/lib/python3.11/site-packages (from gymnasium[classic_control,toy_text]) (2.2.1)\n",
            "Requirement already satisfied: typing-extensions>=4.3.0 in /Users/alexbuyan/miniconda3/envs/rl-env/lib/python3.11/site-packages (from gymnasium[classic_control,toy_text]) (4.9.0)\n",
            "Requirement already satisfied: farama-notifications>=0.0.1 in /Users/alexbuyan/miniconda3/envs/rl-env/lib/python3.11/site-packages (from gymnasium[classic_control,toy_text]) (0.0.4)\n",
            "Requirement already satisfied: pygame==2.1.3 in /Users/alexbuyan/miniconda3/envs/rl-env/lib/python3.11/site-packages (from gymnasium[classic_control,toy_text]) (2.1.3)\n"
          ]
        }
      ],
      "source": [
        "# Install gymnasium if you didn't\n",
        "!pip install \"gymnasium[toy_text,classic_control]\""
      ]
    },
    {
      "cell_type": "code",
      "execution_count": 5,
      "metadata": {
        "id": "_2zbc7ahG9zK"
      },
      "outputs": [
        {
          "name": "stderr",
          "output_type": "stream",
          "text": [
            "/Users/alexbuyan/miniconda3/envs/rl-env/lib/python3.11/site-packages/gymnasium/envs/registration.py:523: DeprecationWarning: \u001b[33mWARN: The environment CartPole-v0 is out of date. You should consider upgrading to version `v1`.\u001b[0m\n",
            "  logger.deprecation(\n"
          ]
        },
        {
          "name": "stdout",
          "output_type": "stream",
          "text": [
            "state vector dim = 4\n",
            "n_actions = 2\n"
          ]
        },
        {
          "data": {
            "image/png": "[encoded data removed]",
            "text/plain": [
              "<Figure size 640x480 with 1 Axes>"
            ]
          },
          "metadata": {},
          "output_type": "display_data"
        }
      ],
      "source": [
        "import gymnasium as gym\n",
        "import numpy as np\n",
        "import matplotlib.pyplot as plt\n",
        "%matplotlib inline\n",
        "\n",
        "# if you see \"<classname> has no attribute .env\", remove .env or update gym\n",
        "env = gym.make(\"CartPole-v0\", render_mode=\"rgb_array\").env\n",
        "\n",
        "env.reset()\n",
        "n_actions = env.action_space.n\n",
        "state_dim = env.observation_space.shape[0]\n",
        "\n",
        "plt.imshow(env.render())\n",
        "print(\"state vector dim =\", state_dim)\n",
        "print(\"n_actions =\", n_actions)\n",
        "\n",
        "env.close()"
      ]
    },
    {
      "cell_type": "markdown",
      "metadata": {
        "id": "Z72_alhdG9zK"
      },
      "source": [
        "# Neural Network Policy\n",
        "\n",
        "For this assignment we'll utilize the simplified neural network implementation from __[Scikit-learn](https://scikit-learn.org/stable/modules/generated/sklearn.neural_network.MLPClassifier.html)__. Here's what you'll need:\n",
        "\n",
        "* `agent.partial_fit(states, actions)` - make a single training pass over the data. Maximize the probability of :actions: from :states:\n",
        "* `agent.predict_proba(states)` - predict probabilities of all actions, a matrix of shape __[len(states), n_actions]__\n"
      ]
    },
    {
      "cell_type": "code",
      "execution_count": 6,
      "metadata": {
        "id": "wLItY4unG9zL"
      },
      "outputs": [
        {
          "data": {
            "text/html": [
              "<style>#sk-container-id-1 {color: black;background-color: white;}#sk-container-id-1 pre{padding: 0;}#sk-container-id-1 div.sk-toggleable {background-color: white;}#sk-container-id-1 label.sk-toggleable__label {cursor: pointer;display: block;width: 100%;margin-bottom: 0;padding: 0.3em;box-sizing: border-box;text-align: center;}#sk-container-id-1 label.sk-toggleable__label-arrow:before {content: \"▸\";float: left;margin-right: 0.25em;color: #696969;}#sk-container-id-1 label.sk-toggleable__label-arrow:hover:before {color: black;}#sk-container-id-1 div.sk-estimator:hover label.sk-toggleable__label-arrow:before {color: black;}#sk-container-id-1 div.sk-toggleable__content {max-height: 0;max-width: 0;overflow: hidden;text-align: left;background-color: #f0f8ff;}#sk-container-id-1 div.sk-toggleable__content pre {margin: 0.2em;color: black;border-radius: 0.25em;background-color: #f0f8ff;}#sk-container-id-1 input.sk-toggleable__control:checked~div.sk-toggleable__content {max-height: 200px;max-width: 100%;overflow: auto;}#sk-container-id-1 input.sk-toggleable__control:checked~label.sk-toggleable__label-arrow:before {content: \"▾\";}#sk-container-id-1 div.sk-estimator input.sk-toggleable__control:checked~label.sk-toggleable__label {background-color: #d4ebff;}#sk-container-id-1 div.sk-label input.sk-toggleable__control:checked~label.sk-toggleable__label {background-color: #d4ebff;}#sk-container-id-1 input.sk-hidden--visually {border: 0;clip: rect(1px 1px 1px 1px);clip: rect(1px, 1px, 1px, 1px);height: 1px;margin: -1px;overflow: hidden;padding: 0;position: absolute;width: 1px;}#sk-container-id-1 div.sk-estimator {font-family: monospace;background-color: #f0f8ff;border: 1px dotted black;border-radius: 0.25em;box-sizing: border-box;margin-bottom: 0.5em;}#sk-container-id-1 div.sk-estimator:hover {background-color: #d4ebff;}#sk-container-id-1 div.sk-parallel-item::after {content: \"\";width: 100%;border-bottom: 1px solid gray;flex-grow: 1;}#sk-container-id-1 div.sk-label:hover label.sk-toggleable__label {background-color: #d4ebff;}#sk-container-id-1 div.sk-serial::before {content: \"\";position: absolute;border-left: 1px solid gray;box-sizing: border-box;top: 0;bottom: 0;left: 50%;z-index: 0;}#sk-container-id-1 div.sk-serial {display: flex;flex-direction: column;align-items: center;background-color: white;padding-right: 0.2em;padding-left: 0.2em;position: relative;}#sk-container-id-1 div.sk-item {position: relative;z-index: 1;}#sk-container-id-1 div.sk-parallel {display: flex;align-items: stretch;justify-content: center;background-color: white;position: relative;}#sk-container-id-1 div.sk-item::before, #sk-container-id-1 div.sk-parallel-item::before {content: \"\";position: absolute;border-left: 1px solid gray;box-sizing: border-box;top: 0;bottom: 0;left: 50%;z-index: -1;}#sk-container-id-1 div.sk-parallel-item {display: flex;flex-direction: column;z-index: 1;position: relative;background-color: white;}#sk-container-id-1 div.sk-parallel-item:first-child::after {align-self: flex-end;width: 50%;}#sk-container-id-1 div.sk-parallel-item:last-child::after {align-self: flex-start;width: 50%;}#sk-container-id-1 div.sk-parallel-item:only-child::after {width: 0;}#sk-container-id-1 div.sk-dashed-wrapped {border: 1px dashed gray;margin: 0 0.4em 0.5em 0.4em;box-sizing: border-box;padding-bottom: 0.4em;background-color: white;}#sk-container-id-1 div.sk-label label {font-family: monospace;font-weight: bold;display: inline-block;line-height: 1.2em;}#sk-container-id-1 div.sk-label-container {text-align: center;}#sk-container-id-1 div.sk-container {/* jupyter's `normalize.less` sets `[hidden] { display: none; }` but bootstrap.min.css set `[hidden] { display: none !important; }` so we also need the `!important` here to be able to override the default hidden behavior on the sphinx rendered scikit-learn.org. See: https://github.com/scikit-learn/scikit-learn/issues/21755 */display: inline-block !important;position: relative;}#sk-container-id-1 div.sk-text-repr-fallback {display: none;}</style><div id=\"sk-container-id-1\" class=\"sk-top-container\"><div class=\"sk-text-repr-fallback\"><pre>MLPClassifier(activation=&#x27;tanh&#x27;, hidden_layer_sizes=(20, 20))</pre><b>In a Jupyter environment, please rerun this cell to show the HTML representation or trust the notebook. <br />On GitHub, the HTML representation is unable to render, please try loading this page with nbviewer.org.</b></div><div class=\"sk-container\" hidden><div class=\"sk-item\"><div class=\"sk-estimator sk-toggleable\"><input class=\"sk-toggleable__control sk-hidden--visually\" id=\"sk-estimator-id-1\" type=\"checkbox\" checked><label for=\"sk-estimator-id-1\" class=\"sk-toggleable__label sk-toggleable__label-arrow\">MLPClassifier</label><div class=\"sk-toggleable__content\"><pre>MLPClassifier(activation=&#x27;tanh&#x27;, hidden_layer_sizes=(20, 20))</pre></div></div></div></div></div>"
            ],
            "text/plain": [
              "MLPClassifier(activation='tanh', hidden_layer_sizes=(20, 20))"
            ]
          },
          "execution_count": 6,
          "metadata": {},
          "output_type": "execute_result"
        }
      ],
      "source": [
        "from sklearn.neural_network import MLPClassifier\n",
        "\n",
        "agent = MLPClassifier(\n",
        "    hidden_layer_sizes=(20, 20),\n",
        "    activation=\"tanh\",\n",
        ")\n",
        "\n",
        "# initialize agent to the dimension of state space and number of actions\n",
        "agent.partial_fit([env.reset()[0]] * n_actions, range(n_actions), range(n_actions))\n"
      ]
    },
    {
      "cell_type": "code",
      "execution_count": 7,
      "metadata": {
        "id": "eyFS3oUmG9zL"
      },
      "outputs": [],
      "source": [
        "def generate_session(env, agent, t_max=1000):\n",
        "    \"\"\"\n",
        "    Play a single game using agent neural network.\n",
        "    Terminate when game finishes or after :t_max: steps\n",
        "    \"\"\"\n",
        "    states, actions = [], []\n",
        "    total_reward = 0\n",
        "\n",
        "    s, _ = env.reset()\n",
        "\n",
        "    for t in range(t_max):\n",
        "        # use agent to predict a vector of action probabilities for state :s:\n",
        "        probs = agent.predict_proba([s]).reshape(-1)\n",
        "\n",
        "        assert probs.shape == (env.action_space.n,), \"make sure probabilities are a vector (hint: np.reshape)\"\n",
        "\n",
        "        # use the probabilities you predicted to pick an action\n",
        "        # sample proportionally to the probabilities, don't just take the most likely action\n",
        "        a = np.random.choice(n_actions, p=probs)\n",
        "        # ^-- hint: try np.random.choice\n",
        "\n",
        "        new_s, r, terminated, truncated, _ = env.step(a)\n",
        "\n",
        "        # record sessions like you did before\n",
        "        states.append(s)\n",
        "        actions.append(a)\n",
        "        total_reward += r\n",
        "\n",
        "        s = new_s\n",
        "        if terminated or truncated:\n",
        "            break\n",
        "    return states, actions, total_reward\n"
      ]
    },
    {
      "cell_type": "code",
      "execution_count": 8,
      "metadata": {
        "id": "4xgrTCgJG9zL"
      },
      "outputs": [
        {
          "name": "stdout",
          "output_type": "stream",
          "text": [
            "states: [[ 0.0210354   0.0167337  -0.00243841 -0.02944738]\n",
            " [ 0.02137007 -0.1783532  -0.00302736  0.2624652 ]\n",
            " [ 0.01780301 -0.3734318   0.00222195  0.5541917 ]\n",
            " [ 0.01033437 -0.5685849   0.01330578  0.8475739 ]\n",
            " [-0.00103732 -0.37364694  0.03025726  0.5591046 ]]\n",
            "actions: [0, 0, 0, 1, 0]\n",
            "reward: 5.0\n"
          ]
        }
      ],
      "source": [
        "dummy_states, dummy_actions, dummy_reward = generate_session(env, agent, t_max=5)\n",
        "print(\"states:\", np.stack(dummy_states))\n",
        "print(\"actions:\", dummy_actions)\n",
        "print(\"reward:\", dummy_reward)\n"
      ]
    },
    {
      "cell_type": "markdown",
      "metadata": {
        "id": "p85lt16qG9zL"
      },
      "source": [
        "### CEM steps\n",
        "Deep CEM uses exactly the same strategy as the regular CEM, so you can copy your function code from previous notebook.\n",
        "\n",
        "The only difference is that now each observation is not a number but a `float32` vector."
      ]
    },
    {
      "cell_type": "code",
      "execution_count": 9,
      "metadata": {
        "id": "4On-p7p4G9zL"
      },
      "outputs": [],
      "source": [
        "def select_elites(states_batch, actions_batch, rewards_batch, percentile=50):\n",
        "    \"\"\"\n",
        "    Select states and actions from games that have rewards >= percentile\n",
        "    :param states_batch: list of lists of states, states_batch[session_i][t]\n",
        "    :param actions_batch: list of lists of actions, actions_batch[session_i][t]\n",
        "    :param rewards_batch: list of rewards, rewards_batch[session_i]\n",
        "\n",
        "    :returns: elite_states,elite_actions, both 1D lists of states and respective actions from elite sessions\n",
        "\n",
        "    Please return elite states and actions in their original order\n",
        "    [i.e. sorted by session number and timestep within session]\n",
        "\n",
        "    If you are confused, see examples below. Please don't assume that states are integers\n",
        "    (they will become different later).\n",
        "    \"\"\"\n",
        "\n",
        "    reward_threshold = np.percentile(rewards_batch, q=percentile)\n",
        "\n",
        "    elite_states = []\n",
        "    elite_actions = []\n",
        "    \n",
        "    for i, r in enumerate(rewards_batch):\n",
        "        if r >= reward_threshold:\n",
        "            elite_states.extend(states_batch[i])\n",
        "            elite_actions.extend(actions_batch[i])\n",
        "\n",
        "    return elite_states, elite_actions"
      ]
    },
    {
      "cell_type": "markdown",
      "metadata": {
        "id": "xc40V4DaG9zM"
      },
      "source": [
        "# Training loop\n",
        "Generate sessions, select N best and fit to those."
      ]
    },
    {
      "cell_type": "code",
      "execution_count": 10,
      "metadata": {
        "id": "PPwVKwF7G9zM"
      },
      "outputs": [],
      "source": [
        "from IPython.display import clear_output\n",
        "\n",
        "\n",
        "def show_progress(rewards_batch, log, percentile, reward_range=[-990, +10]):\n",
        "    \"\"\"\n",
        "    A convenience function that displays training progress.\n",
        "    No cool math here, just charts.\n",
        "    \"\"\"\n",
        "\n",
        "    mean_reward = np.mean(rewards_batch)\n",
        "    threshold = np.percentile(rewards_batch, percentile)\n",
        "    log.append([mean_reward, threshold])\n",
        "\n",
        "    clear_output(True)\n",
        "    print(\"mean reward = %.3f, threshold=%.3f\" % (mean_reward, threshold))\n",
        "    plt.figure(figsize=[8, 4])\n",
        "    plt.subplot(1, 2, 1)\n",
        "    plt.plot(list(zip(*log))[0], label=\"Mean rewards\")\n",
        "    plt.plot(list(zip(*log))[1], label=\"Reward thresholds\")\n",
        "    plt.legend()\n",
        "    plt.grid()\n",
        "\n",
        "    plt.subplot(1, 2, 2)\n",
        "    plt.hist(rewards_batch, range=reward_range)\n",
        "    plt.vlines(\n",
        "        [np.percentile(rewards_batch, percentile)],\n",
        "        [0],\n",
        "        [100],\n",
        "        label=\"percentile\",\n",
        "        color=\"red\",\n",
        "    )\n",
        "    plt.legend()\n",
        "    plt.grid()\n",
        "\n",
        "    plt.show()\n"
      ]
    },
    {
      "cell_type": "code",
      "execution_count": 11,
      "metadata": {
        "id": "euK7WRQiG9zM"
      },
      "outputs": [
        {
          "name": "stdout",
          "output_type": "stream",
          "text": [
            "mean reward = 483.340, threshold=575.300\n"
          ]
        },
        {
          "ename": "KeyboardInterrupt",
          "evalue": "",
          "output_type": "error",
          "traceback": [
            "\u001b[0;31m---------------------------------------------------------------------------\u001b[0m",
            "\u001b[0;31mAttributeError\u001b[0m                            Traceback (most recent call last)",
            "File \u001b[0;32m~/miniconda3/envs/rl-env/lib/python3.11/site-packages/PIL/ImageFile.py:536\u001b[0m, in \u001b[0;36m_save\u001b[0;34m(im, fp, tile, bufsize)\u001b[0m\n\u001b[1;32m    535\u001b[0m \u001b[38;5;28;01mtry\u001b[39;00m:\n\u001b[0;32m--> 536\u001b[0m     fh \u001b[38;5;241m=\u001b[39m \u001b[43mfp\u001b[49m\u001b[38;5;241;43m.\u001b[39;49m\u001b[43mfileno\u001b[49m()\n\u001b[1;32m    537\u001b[0m     fp\u001b[38;5;241m.\u001b[39mflush()\n",
            "\u001b[0;31mAttributeError\u001b[0m: '_idat' object has no attribute 'fileno'",
            "\nDuring handling of the above exception, another exception occurred:\n",
            "\u001b[0;31mKeyboardInterrupt\u001b[0m                         Traceback (most recent call last)",
            "Cell \u001b[0;32mIn[11], line 17\u001b[0m\n\u001b[1;32m     14\u001b[0m \u001b[38;5;66;03m# <YOUR CODE: partial_fit agent to predict elite_actions(y) from elite_states(X)>\u001b[39;00m\n\u001b[1;32m     15\u001b[0m agent\u001b[38;5;241m.\u001b[39mfit(elite_states\u001b[38;5;241m.\u001b[39mreshape(\u001b[38;5;241m-\u001b[39m\u001b[38;5;241m1\u001b[39m, state_dim), elite_actions\u001b[38;5;241m.\u001b[39mreshape(\u001b[38;5;241m-\u001b[39m\u001b[38;5;241m1\u001b[39m, \u001b[38;5;241m1\u001b[39m))\n\u001b[0;32m---> 17\u001b[0m \u001b[43mshow_progress\u001b[49m\u001b[43m(\u001b[49m\n\u001b[1;32m     18\u001b[0m \u001b[43m    \u001b[49m\u001b[43mrewards_batch\u001b[49m\u001b[43m,\u001b[49m\u001b[43m \u001b[49m\u001b[43mlog\u001b[49m\u001b[43m,\u001b[49m\u001b[43m \u001b[49m\u001b[43mpercentile\u001b[49m\u001b[43m,\u001b[49m\u001b[43m \u001b[49m\u001b[43mreward_range\u001b[49m\u001b[38;5;241;43m=\u001b[39;49m\u001b[43m[\u001b[49m\u001b[38;5;241;43m0\u001b[39;49m\u001b[43m,\u001b[49m\u001b[43m \u001b[49m\u001b[43mnp\u001b[49m\u001b[38;5;241;43m.\u001b[39;49m\u001b[43mmax\u001b[49m\u001b[43m(\u001b[49m\u001b[43mrewards_batch\u001b[49m\u001b[43m)\u001b[49m\u001b[43m]\u001b[49m\n\u001b[1;32m     19\u001b[0m \u001b[43m\u001b[49m\u001b[43m)\u001b[49m\n\u001b[1;32m     21\u001b[0m \u001b[38;5;28;01mif\u001b[39;00m np\u001b[38;5;241m.\u001b[39mmean(rewards_batch) \u001b[38;5;241m>\u001b[39m \u001b[38;5;241m190\u001b[39m:\n\u001b[1;32m     22\u001b[0m     \u001b[38;5;28mprint\u001b[39m(\u001b[38;5;124m\"\u001b[39m\u001b[38;5;124mYou Win! You may stop training now via KeyboardInterrupt.\u001b[39m\u001b[38;5;124m\"\u001b[39m)\n",
            "Cell \u001b[0;32mIn[10], line 35\u001b[0m, in \u001b[0;36mshow_progress\u001b[0;34m(rewards_batch, log, percentile, reward_range)\u001b[0m\n\u001b[1;32m     32\u001b[0m plt\u001b[38;5;241m.\u001b[39mlegend()\n\u001b[1;32m     33\u001b[0m plt\u001b[38;5;241m.\u001b[39mgrid()\n\u001b[0;32m---> 35\u001b[0m \u001b[43mplt\u001b[49m\u001b[38;5;241;43m.\u001b[39;49m\u001b[43mshow\u001b[49m\u001b[43m(\u001b[49m\u001b[43m)\u001b[49m\n",
            "File \u001b[0;32m~/miniconda3/envs/rl-env/lib/python3.11/site-packages/matplotlib/pyplot.py:527\u001b[0m, in \u001b[0;36mshow\u001b[0;34m(*args, **kwargs)\u001b[0m\n\u001b[1;32m    483\u001b[0m \u001b[38;5;250m\u001b[39m\u001b[38;5;124;03m\"\"\"\u001b[39;00m\n\u001b[1;32m    484\u001b[0m \u001b[38;5;124;03mDisplay all open figures.\u001b[39;00m\n\u001b[1;32m    485\u001b[0m \n\u001b[0;32m   (...)\u001b[0m\n\u001b[1;32m    524\u001b[0m \u001b[38;5;124;03mexplicitly there.\u001b[39;00m\n\u001b[1;32m    525\u001b[0m \u001b[38;5;124;03m\"\"\"\u001b[39;00m\n\u001b[1;32m    526\u001b[0m _warn_if_gui_out_of_main_thread()\n\u001b[0;32m--> 527\u001b[0m \u001b[38;5;28;01mreturn\u001b[39;00m \u001b[43m_get_backend_mod\u001b[49m\u001b[43m(\u001b[49m\u001b[43m)\u001b[49m\u001b[38;5;241;43m.\u001b[39;49m\u001b[43mshow\u001b[49m\u001b[43m(\u001b[49m\u001b[38;5;241;43m*\u001b[39;49m\u001b[43margs\u001b[49m\u001b[43m,\u001b[49m\u001b[43m \u001b[49m\u001b[38;5;241;43m*\u001b[39;49m\u001b[38;5;241;43m*\u001b[39;49m\u001b[43mkwargs\u001b[49m\u001b[43m)\u001b[49m\n",
            "File \u001b[0;32m~/miniconda3/envs/rl-env/lib/python3.11/site-packages/matplotlib_inline/backend_inline.py:90\u001b[0m, in \u001b[0;36mshow\u001b[0;34m(close, block)\u001b[0m\n\u001b[1;32m     88\u001b[0m \u001b[38;5;28;01mtry\u001b[39;00m:\n\u001b[1;32m     89\u001b[0m     \u001b[38;5;28;01mfor\u001b[39;00m figure_manager \u001b[38;5;129;01min\u001b[39;00m Gcf\u001b[38;5;241m.\u001b[39mget_all_fig_managers():\n\u001b[0;32m---> 90\u001b[0m         \u001b[43mdisplay\u001b[49m\u001b[43m(\u001b[49m\n\u001b[1;32m     91\u001b[0m \u001b[43m            \u001b[49m\u001b[43mfigure_manager\u001b[49m\u001b[38;5;241;43m.\u001b[39;49m\u001b[43mcanvas\u001b[49m\u001b[38;5;241;43m.\u001b[39;49m\u001b[43mfigure\u001b[49m\u001b[43m,\u001b[49m\n\u001b[1;32m     92\u001b[0m \u001b[43m            \u001b[49m\u001b[43mmetadata\u001b[49m\u001b[38;5;241;43m=\u001b[39;49m\u001b[43m_fetch_figure_metadata\u001b[49m\u001b[43m(\u001b[49m\u001b[43mfigure_manager\u001b[49m\u001b[38;5;241;43m.\u001b[39;49m\u001b[43mcanvas\u001b[49m\u001b[38;5;241;43m.\u001b[39;49m\u001b[43mfigure\u001b[49m\u001b[43m)\u001b[49m\n\u001b[1;32m     93\u001b[0m \u001b[43m        \u001b[49m\u001b[43m)\u001b[49m\n\u001b[1;32m     94\u001b[0m \u001b[38;5;28;01mfinally\u001b[39;00m:\n\u001b[1;32m     95\u001b[0m     show\u001b[38;5;241m.\u001b[39m_to_draw \u001b[38;5;241m=\u001b[39m []\n",
            "File \u001b[0;32m~/miniconda3/envs/rl-env/lib/python3.11/site-packages/IPython/core/display_functions.py:298\u001b[0m, in \u001b[0;36mdisplay\u001b[0;34m(include, exclude, metadata, transient, display_id, raw, clear, *objs, **kwargs)\u001b[0m\n\u001b[1;32m    296\u001b[0m     publish_display_data(data\u001b[38;5;241m=\u001b[39mobj, metadata\u001b[38;5;241m=\u001b[39mmetadata, \u001b[38;5;241m*\u001b[39m\u001b[38;5;241m*\u001b[39mkwargs)\n\u001b[1;32m    297\u001b[0m \u001b[38;5;28;01melse\u001b[39;00m:\n\u001b[0;32m--> 298\u001b[0m     format_dict, md_dict \u001b[38;5;241m=\u001b[39m \u001b[38;5;28;43mformat\u001b[39;49m\u001b[43m(\u001b[49m\u001b[43mobj\u001b[49m\u001b[43m,\u001b[49m\u001b[43m \u001b[49m\u001b[43minclude\u001b[49m\u001b[38;5;241;43m=\u001b[39;49m\u001b[43minclude\u001b[49m\u001b[43m,\u001b[49m\u001b[43m \u001b[49m\u001b[43mexclude\u001b[49m\u001b[38;5;241;43m=\u001b[39;49m\u001b[43mexclude\u001b[49m\u001b[43m)\u001b[49m\n\u001b[1;32m    299\u001b[0m     \u001b[38;5;28;01mif\u001b[39;00m \u001b[38;5;129;01mnot\u001b[39;00m format_dict:\n\u001b[1;32m    300\u001b[0m         \u001b[38;5;66;03m# nothing to display (e.g. _ipython_display_ took over)\u001b[39;00m\n\u001b[1;32m    301\u001b[0m         \u001b[38;5;28;01mcontinue\u001b[39;00m\n",
            "File \u001b[0;32m~/miniconda3/envs/rl-env/lib/python3.11/site-packages/IPython/core/formatters.py:182\u001b[0m, in \u001b[0;36mDisplayFormatter.format\u001b[0;34m(self, obj, include, exclude)\u001b[0m\n\u001b[1;32m    180\u001b[0m md \u001b[38;5;241m=\u001b[39m \u001b[38;5;28;01mNone\u001b[39;00m\n\u001b[1;32m    181\u001b[0m \u001b[38;5;28;01mtry\u001b[39;00m:\n\u001b[0;32m--> 182\u001b[0m     data \u001b[38;5;241m=\u001b[39m \u001b[43mformatter\u001b[49m\u001b[43m(\u001b[49m\u001b[43mobj\u001b[49m\u001b[43m)\u001b[49m\n\u001b[1;32m    183\u001b[0m \u001b[38;5;28;01mexcept\u001b[39;00m:\n\u001b[1;32m    184\u001b[0m     \u001b[38;5;66;03m# FIXME: log the exception\u001b[39;00m\n\u001b[1;32m    185\u001b[0m     \u001b[38;5;28;01mraise\u001b[39;00m\n",
            "File \u001b[0;32m<decorator-gen-2>:2\u001b[0m, in \u001b[0;36m__call__\u001b[0;34m(self, obj)\u001b[0m\n",
            "File \u001b[0;32m~/miniconda3/envs/rl-env/lib/python3.11/site-packages/IPython/core/formatters.py:226\u001b[0m, in \u001b[0;36mcatch_format_error\u001b[0;34m(method, self, *args, **kwargs)\u001b[0m\n\u001b[1;32m    224\u001b[0m \u001b[38;5;250m\u001b[39m\u001b[38;5;124;03m\"\"\"show traceback on failed format call\"\"\"\u001b[39;00m\n\u001b[1;32m    225\u001b[0m \u001b[38;5;28;01mtry\u001b[39;00m:\n\u001b[0;32m--> 226\u001b[0m     r \u001b[38;5;241m=\u001b[39m \u001b[43mmethod\u001b[49m\u001b[43m(\u001b[49m\u001b[38;5;28;43mself\u001b[39;49m\u001b[43m,\u001b[49m\u001b[43m \u001b[49m\u001b[38;5;241;43m*\u001b[39;49m\u001b[43margs\u001b[49m\u001b[43m,\u001b[49m\u001b[43m \u001b[49m\u001b[38;5;241;43m*\u001b[39;49m\u001b[38;5;241;43m*\u001b[39;49m\u001b[43mkwargs\u001b[49m\u001b[43m)\u001b[49m\n\u001b[1;32m    227\u001b[0m \u001b[38;5;28;01mexcept\u001b[39;00m \u001b[38;5;167;01mNotImplementedError\u001b[39;00m:\n\u001b[1;32m    228\u001b[0m     \u001b[38;5;66;03m# don't warn on NotImplementedErrors\u001b[39;00m\n\u001b[1;32m    229\u001b[0m     \u001b[38;5;28;01mreturn\u001b[39;00m \u001b[38;5;28mself\u001b[39m\u001b[38;5;241m.\u001b[39m_check_return(\u001b[38;5;28;01mNone\u001b[39;00m, args[\u001b[38;5;241m0\u001b[39m])\n",
            "File \u001b[0;32m~/miniconda3/envs/rl-env/lib/python3.11/site-packages/IPython/core/formatters.py:343\u001b[0m, in \u001b[0;36mBaseFormatter.__call__\u001b[0;34m(self, obj)\u001b[0m\n\u001b[1;32m    341\u001b[0m     \u001b[38;5;28;01mpass\u001b[39;00m\n\u001b[1;32m    342\u001b[0m \u001b[38;5;28;01melse\u001b[39;00m:\n\u001b[0;32m--> 343\u001b[0m     \u001b[38;5;28;01mreturn\u001b[39;00m \u001b[43mprinter\u001b[49m\u001b[43m(\u001b[49m\u001b[43mobj\u001b[49m\u001b[43m)\u001b[49m\n\u001b[1;32m    344\u001b[0m \u001b[38;5;66;03m# Finally look for special method names\u001b[39;00m\n\u001b[1;32m    345\u001b[0m method \u001b[38;5;241m=\u001b[39m get_real_method(obj, \u001b[38;5;28mself\u001b[39m\u001b[38;5;241m.\u001b[39mprint_method)\n",
            "File \u001b[0;32m~/miniconda3/envs/rl-env/lib/python3.11/site-packages/IPython/core/pylabtools.py:152\u001b[0m, in \u001b[0;36mprint_figure\u001b[0;34m(fig, fmt, bbox_inches, base64, **kwargs)\u001b[0m\n\u001b[1;32m    149\u001b[0m     \u001b[38;5;28;01mfrom\u001b[39;00m \u001b[38;5;21;01mmatplotlib\u001b[39;00m\u001b[38;5;21;01m.\u001b[39;00m\u001b[38;5;21;01mbackend_bases\u001b[39;00m \u001b[38;5;28;01mimport\u001b[39;00m FigureCanvasBase\n\u001b[1;32m    150\u001b[0m     FigureCanvasBase(fig)\n\u001b[0;32m--> 152\u001b[0m \u001b[43mfig\u001b[49m\u001b[38;5;241;43m.\u001b[39;49m\u001b[43mcanvas\u001b[49m\u001b[38;5;241;43m.\u001b[39;49m\u001b[43mprint_figure\u001b[49m\u001b[43m(\u001b[49m\u001b[43mbytes_io\u001b[49m\u001b[43m,\u001b[49m\u001b[43m \u001b[49m\u001b[38;5;241;43m*\u001b[39;49m\u001b[38;5;241;43m*\u001b[39;49m\u001b[43mkw\u001b[49m\u001b[43m)\u001b[49m\n\u001b[1;32m    153\u001b[0m data \u001b[38;5;241m=\u001b[39m bytes_io\u001b[38;5;241m.\u001b[39mgetvalue()\n\u001b[1;32m    154\u001b[0m \u001b[38;5;28;01mif\u001b[39;00m fmt \u001b[38;5;241m==\u001b[39m \u001b[38;5;124m'\u001b[39m\u001b[38;5;124msvg\u001b[39m\u001b[38;5;124m'\u001b[39m:\n",
            "File \u001b[0;32m~/miniconda3/envs/rl-env/lib/python3.11/site-packages/matplotlib/backend_bases.py:2187\u001b[0m, in \u001b[0;36mFigureCanvasBase.print_figure\u001b[0;34m(self, filename, dpi, facecolor, edgecolor, orientation, format, bbox_inches, pad_inches, bbox_extra_artists, backend, **kwargs)\u001b[0m\n\u001b[1;32m   2183\u001b[0m \u001b[38;5;28;01mtry\u001b[39;00m:\n\u001b[1;32m   2184\u001b[0m     \u001b[38;5;66;03m# _get_renderer may change the figure dpi (as vector formats\u001b[39;00m\n\u001b[1;32m   2185\u001b[0m     \u001b[38;5;66;03m# force the figure dpi to 72), so we need to set it again here.\u001b[39;00m\n\u001b[1;32m   2186\u001b[0m     \u001b[38;5;28;01mwith\u001b[39;00m cbook\u001b[38;5;241m.\u001b[39m_setattr_cm(\u001b[38;5;28mself\u001b[39m\u001b[38;5;241m.\u001b[39mfigure, dpi\u001b[38;5;241m=\u001b[39mdpi):\n\u001b[0;32m-> 2187\u001b[0m         result \u001b[38;5;241m=\u001b[39m \u001b[43mprint_method\u001b[49m\u001b[43m(\u001b[49m\n\u001b[1;32m   2188\u001b[0m \u001b[43m            \u001b[49m\u001b[43mfilename\u001b[49m\u001b[43m,\u001b[49m\n\u001b[1;32m   2189\u001b[0m \u001b[43m            \u001b[49m\u001b[43mfacecolor\u001b[49m\u001b[38;5;241;43m=\u001b[39;49m\u001b[43mfacecolor\u001b[49m\u001b[43m,\u001b[49m\n\u001b[1;32m   2190\u001b[0m \u001b[43m            \u001b[49m\u001b[43medgecolor\u001b[49m\u001b[38;5;241;43m=\u001b[39;49m\u001b[43medgecolor\u001b[49m\u001b[43m,\u001b[49m\n\u001b[1;32m   2191\u001b[0m \u001b[43m            \u001b[49m\u001b[43morientation\u001b[49m\u001b[38;5;241;43m=\u001b[39;49m\u001b[43morientation\u001b[49m\u001b[43m,\u001b[49m\n\u001b[1;32m   2192\u001b[0m \u001b[43m            \u001b[49m\u001b[43mbbox_inches_restore\u001b[49m\u001b[38;5;241;43m=\u001b[39;49m\u001b[43m_bbox_inches_restore\u001b[49m\u001b[43m,\u001b[49m\n\u001b[1;32m   2193\u001b[0m \u001b[43m            \u001b[49m\u001b[38;5;241;43m*\u001b[39;49m\u001b[38;5;241;43m*\u001b[39;49m\u001b[43mkwargs\u001b[49m\u001b[43m)\u001b[49m\n\u001b[1;32m   2194\u001b[0m \u001b[38;5;28;01mfinally\u001b[39;00m:\n\u001b[1;32m   2195\u001b[0m     \u001b[38;5;28;01mif\u001b[39;00m bbox_inches \u001b[38;5;129;01mand\u001b[39;00m restore_bbox:\n",
            "File \u001b[0;32m~/miniconda3/envs/rl-env/lib/python3.11/site-packages/matplotlib/backend_bases.py:2043\u001b[0m, in \u001b[0;36mFigureCanvasBase._switch_canvas_and_return_print_method.<locals>.<lambda>\u001b[0;34m(*args, **kwargs)\u001b[0m\n\u001b[1;32m   2039\u001b[0m     optional_kws \u001b[38;5;241m=\u001b[39m {  \u001b[38;5;66;03m# Passed by print_figure for other renderers.\u001b[39;00m\n\u001b[1;32m   2040\u001b[0m         \u001b[38;5;124m\"\u001b[39m\u001b[38;5;124mdpi\u001b[39m\u001b[38;5;124m\"\u001b[39m, \u001b[38;5;124m\"\u001b[39m\u001b[38;5;124mfacecolor\u001b[39m\u001b[38;5;124m\"\u001b[39m, \u001b[38;5;124m\"\u001b[39m\u001b[38;5;124medgecolor\u001b[39m\u001b[38;5;124m\"\u001b[39m, \u001b[38;5;124m\"\u001b[39m\u001b[38;5;124morientation\u001b[39m\u001b[38;5;124m\"\u001b[39m,\n\u001b[1;32m   2041\u001b[0m         \u001b[38;5;124m\"\u001b[39m\u001b[38;5;124mbbox_inches_restore\u001b[39m\u001b[38;5;124m\"\u001b[39m}\n\u001b[1;32m   2042\u001b[0m     skip \u001b[38;5;241m=\u001b[39m optional_kws \u001b[38;5;241m-\u001b[39m {\u001b[38;5;241m*\u001b[39minspect\u001b[38;5;241m.\u001b[39msignature(meth)\u001b[38;5;241m.\u001b[39mparameters}\n\u001b[0;32m-> 2043\u001b[0m     print_method \u001b[38;5;241m=\u001b[39m functools\u001b[38;5;241m.\u001b[39mwraps(meth)(\u001b[38;5;28;01mlambda\u001b[39;00m \u001b[38;5;241m*\u001b[39margs, \u001b[38;5;241m*\u001b[39m\u001b[38;5;241m*\u001b[39mkwargs: \u001b[43mmeth\u001b[49m\u001b[43m(\u001b[49m\n\u001b[1;32m   2044\u001b[0m \u001b[43m        \u001b[49m\u001b[38;5;241;43m*\u001b[39;49m\u001b[43margs\u001b[49m\u001b[43m,\u001b[49m\u001b[43m \u001b[49m\u001b[38;5;241;43m*\u001b[39;49m\u001b[38;5;241;43m*\u001b[39;49m\u001b[43m{\u001b[49m\u001b[43mk\u001b[49m\u001b[43m:\u001b[49m\u001b[43m \u001b[49m\u001b[43mv\u001b[49m\u001b[43m \u001b[49m\u001b[38;5;28;43;01mfor\u001b[39;49;00m\u001b[43m \u001b[49m\u001b[43mk\u001b[49m\u001b[43m,\u001b[49m\u001b[43m \u001b[49m\u001b[43mv\u001b[49m\u001b[43m \u001b[49m\u001b[38;5;129;43;01min\u001b[39;49;00m\u001b[43m \u001b[49m\u001b[43mkwargs\u001b[49m\u001b[38;5;241;43m.\u001b[39;49m\u001b[43mitems\u001b[49m\u001b[43m(\u001b[49m\u001b[43m)\u001b[49m\u001b[43m \u001b[49m\u001b[38;5;28;43;01mif\u001b[39;49;00m\u001b[43m \u001b[49m\u001b[43mk\u001b[49m\u001b[43m \u001b[49m\u001b[38;5;129;43;01mnot\u001b[39;49;00m\u001b[43m \u001b[49m\u001b[38;5;129;43;01min\u001b[39;49;00m\u001b[43m \u001b[49m\u001b[43mskip\u001b[49m\u001b[43m}\u001b[49m\u001b[43m)\u001b[49m)\n\u001b[1;32m   2045\u001b[0m \u001b[38;5;28;01melse\u001b[39;00m:  \u001b[38;5;66;03m# Let third-parties do as they see fit.\u001b[39;00m\n\u001b[1;32m   2046\u001b[0m     print_method \u001b[38;5;241m=\u001b[39m meth\n",
            "File \u001b[0;32m~/miniconda3/envs/rl-env/lib/python3.11/site-packages/matplotlib/backends/backend_agg.py:497\u001b[0m, in \u001b[0;36mFigureCanvasAgg.print_png\u001b[0;34m(self, filename_or_obj, metadata, pil_kwargs)\u001b[0m\n\u001b[1;32m    450\u001b[0m \u001b[38;5;28;01mdef\u001b[39;00m \u001b[38;5;21mprint_png\u001b[39m(\u001b[38;5;28mself\u001b[39m, filename_or_obj, \u001b[38;5;241m*\u001b[39m, metadata\u001b[38;5;241m=\u001b[39m\u001b[38;5;28;01mNone\u001b[39;00m, pil_kwargs\u001b[38;5;241m=\u001b[39m\u001b[38;5;28;01mNone\u001b[39;00m):\n\u001b[1;32m    451\u001b[0m \u001b[38;5;250m    \u001b[39m\u001b[38;5;124;03m\"\"\"\u001b[39;00m\n\u001b[1;32m    452\u001b[0m \u001b[38;5;124;03m    Write the figure to a PNG file.\u001b[39;00m\n\u001b[1;32m    453\u001b[0m \n\u001b[0;32m   (...)\u001b[0m\n\u001b[1;32m    495\u001b[0m \u001b[38;5;124;03m        *metadata*, including the default 'Software' key.\u001b[39;00m\n\u001b[1;32m    496\u001b[0m \u001b[38;5;124;03m    \"\"\"\u001b[39;00m\n\u001b[0;32m--> 497\u001b[0m     \u001b[38;5;28;43mself\u001b[39;49m\u001b[38;5;241;43m.\u001b[39;49m\u001b[43m_print_pil\u001b[49m\u001b[43m(\u001b[49m\u001b[43mfilename_or_obj\u001b[49m\u001b[43m,\u001b[49m\u001b[43m \u001b[49m\u001b[38;5;124;43m\"\u001b[39;49m\u001b[38;5;124;43mpng\u001b[39;49m\u001b[38;5;124;43m\"\u001b[39;49m\u001b[43m,\u001b[49m\u001b[43m \u001b[49m\u001b[43mpil_kwargs\u001b[49m\u001b[43m,\u001b[49m\u001b[43m \u001b[49m\u001b[43mmetadata\u001b[49m\u001b[43m)\u001b[49m\n",
            "File \u001b[0;32m~/miniconda3/envs/rl-env/lib/python3.11/site-packages/matplotlib/backends/backend_agg.py:446\u001b[0m, in \u001b[0;36mFigureCanvasAgg._print_pil\u001b[0;34m(self, filename_or_obj, fmt, pil_kwargs, metadata)\u001b[0m\n\u001b[1;32m    441\u001b[0m \u001b[38;5;250m\u001b[39m\u001b[38;5;124;03m\"\"\"\u001b[39;00m\n\u001b[1;32m    442\u001b[0m \u001b[38;5;124;03mDraw the canvas, then save it using `.image.imsave` (to which\u001b[39;00m\n\u001b[1;32m    443\u001b[0m \u001b[38;5;124;03m*pil_kwargs* and *metadata* are forwarded).\u001b[39;00m\n\u001b[1;32m    444\u001b[0m \u001b[38;5;124;03m\"\"\"\u001b[39;00m\n\u001b[1;32m    445\u001b[0m FigureCanvasAgg\u001b[38;5;241m.\u001b[39mdraw(\u001b[38;5;28mself\u001b[39m)\n\u001b[0;32m--> 446\u001b[0m \u001b[43mmpl\u001b[49m\u001b[38;5;241;43m.\u001b[39;49m\u001b[43mimage\u001b[49m\u001b[38;5;241;43m.\u001b[39;49m\u001b[43mimsave\u001b[49m\u001b[43m(\u001b[49m\n\u001b[1;32m    447\u001b[0m \u001b[43m    \u001b[49m\u001b[43mfilename_or_obj\u001b[49m\u001b[43m,\u001b[49m\u001b[43m \u001b[49m\u001b[38;5;28;43mself\u001b[39;49m\u001b[38;5;241;43m.\u001b[39;49m\u001b[43mbuffer_rgba\u001b[49m\u001b[43m(\u001b[49m\u001b[43m)\u001b[49m\u001b[43m,\u001b[49m\u001b[43m \u001b[49m\u001b[38;5;28;43mformat\u001b[39;49m\u001b[38;5;241;43m=\u001b[39;49m\u001b[43mfmt\u001b[49m\u001b[43m,\u001b[49m\u001b[43m \u001b[49m\u001b[43morigin\u001b[49m\u001b[38;5;241;43m=\u001b[39;49m\u001b[38;5;124;43m\"\u001b[39;49m\u001b[38;5;124;43mupper\u001b[39;49m\u001b[38;5;124;43m\"\u001b[39;49m\u001b[43m,\u001b[49m\n\u001b[1;32m    448\u001b[0m \u001b[43m    \u001b[49m\u001b[43mdpi\u001b[49m\u001b[38;5;241;43m=\u001b[39;49m\u001b[38;5;28;43mself\u001b[39;49m\u001b[38;5;241;43m.\u001b[39;49m\u001b[43mfigure\u001b[49m\u001b[38;5;241;43m.\u001b[39;49m\u001b[43mdpi\u001b[49m\u001b[43m,\u001b[49m\u001b[43m \u001b[49m\u001b[43mmetadata\u001b[49m\u001b[38;5;241;43m=\u001b[39;49m\u001b[43mmetadata\u001b[49m\u001b[43m,\u001b[49m\u001b[43m \u001b[49m\u001b[43mpil_kwargs\u001b[49m\u001b[38;5;241;43m=\u001b[39;49m\u001b[43mpil_kwargs\u001b[49m\u001b[43m)\u001b[49m\n",
            "File \u001b[0;32m~/miniconda3/envs/rl-env/lib/python3.11/site-packages/matplotlib/image.py:1656\u001b[0m, in \u001b[0;36mimsave\u001b[0;34m(fname, arr, vmin, vmax, cmap, format, origin, dpi, metadata, pil_kwargs)\u001b[0m\n\u001b[1;32m   1654\u001b[0m pil_kwargs\u001b[38;5;241m.\u001b[39msetdefault(\u001b[38;5;124m\"\u001b[39m\u001b[38;5;124mformat\u001b[39m\u001b[38;5;124m\"\u001b[39m, \u001b[38;5;28mformat\u001b[39m)\n\u001b[1;32m   1655\u001b[0m pil_kwargs\u001b[38;5;241m.\u001b[39msetdefault(\u001b[38;5;124m\"\u001b[39m\u001b[38;5;124mdpi\u001b[39m\u001b[38;5;124m\"\u001b[39m, (dpi, dpi))\n\u001b[0;32m-> 1656\u001b[0m \u001b[43mimage\u001b[49m\u001b[38;5;241;43m.\u001b[39;49m\u001b[43msave\u001b[49m\u001b[43m(\u001b[49m\u001b[43mfname\u001b[49m\u001b[43m,\u001b[49m\u001b[43m \u001b[49m\u001b[38;5;241;43m*\u001b[39;49m\u001b[38;5;241;43m*\u001b[39;49m\u001b[43mpil_kwargs\u001b[49m\u001b[43m)\u001b[49m\n",
            "File \u001b[0;32m~/miniconda3/envs/rl-env/lib/python3.11/site-packages/PIL/Image.py:2439\u001b[0m, in \u001b[0;36mImage.save\u001b[0;34m(self, fp, format, **params)\u001b[0m\n\u001b[1;32m   2436\u001b[0m         fp \u001b[38;5;241m=\u001b[39m builtins\u001b[38;5;241m.\u001b[39mopen(filename, \u001b[38;5;124m\"\u001b[39m\u001b[38;5;124mw+b\u001b[39m\u001b[38;5;124m\"\u001b[39m)\n\u001b[1;32m   2438\u001b[0m \u001b[38;5;28;01mtry\u001b[39;00m:\n\u001b[0;32m-> 2439\u001b[0m     \u001b[43msave_handler\u001b[49m\u001b[43m(\u001b[49m\u001b[38;5;28;43mself\u001b[39;49m\u001b[43m,\u001b[49m\u001b[43m \u001b[49m\u001b[43mfp\u001b[49m\u001b[43m,\u001b[49m\u001b[43m \u001b[49m\u001b[43mfilename\u001b[49m\u001b[43m)\u001b[49m\n\u001b[1;32m   2440\u001b[0m \u001b[38;5;28;01mexcept\u001b[39;00m \u001b[38;5;167;01mException\u001b[39;00m:\n\u001b[1;32m   2441\u001b[0m     \u001b[38;5;28;01mif\u001b[39;00m open_fp:\n",
            "File \u001b[0;32m~/miniconda3/envs/rl-env/lib/python3.11/site-packages/PIL/PngImagePlugin.py:1402\u001b[0m, in \u001b[0;36m_save\u001b[0;34m(im, fp, filename, chunk, save_all)\u001b[0m\n\u001b[1;32m   1398\u001b[0m     im \u001b[38;5;241m=\u001b[39m _write_multiple_frames(\n\u001b[1;32m   1399\u001b[0m         im, fp, chunk, rawmode, default_image, append_images\n\u001b[1;32m   1400\u001b[0m     )\n\u001b[1;32m   1401\u001b[0m \u001b[38;5;28;01mif\u001b[39;00m im:\n\u001b[0;32m-> 1402\u001b[0m     \u001b[43mImageFile\u001b[49m\u001b[38;5;241;43m.\u001b[39;49m\u001b[43m_save\u001b[49m\u001b[43m(\u001b[49m\u001b[43mim\u001b[49m\u001b[43m,\u001b[49m\u001b[43m \u001b[49m\u001b[43m_idat\u001b[49m\u001b[43m(\u001b[49m\u001b[43mfp\u001b[49m\u001b[43m,\u001b[49m\u001b[43m \u001b[49m\u001b[43mchunk\u001b[49m\u001b[43m)\u001b[49m\u001b[43m,\u001b[49m\u001b[43m \u001b[49m\u001b[43m[\u001b[49m\u001b[43m(\u001b[49m\u001b[38;5;124;43m\"\u001b[39;49m\u001b[38;5;124;43mzip\u001b[39;49m\u001b[38;5;124;43m\"\u001b[39;49m\u001b[43m,\u001b[49m\u001b[43m \u001b[49m\u001b[43m(\u001b[49m\u001b[38;5;241;43m0\u001b[39;49m\u001b[43m,\u001b[49m\u001b[43m \u001b[49m\u001b[38;5;241;43m0\u001b[39;49m\u001b[43m)\u001b[49m\u001b[43m \u001b[49m\u001b[38;5;241;43m+\u001b[39;49m\u001b[43m \u001b[49m\u001b[43mim\u001b[49m\u001b[38;5;241;43m.\u001b[39;49m\u001b[43msize\u001b[49m\u001b[43m,\u001b[49m\u001b[43m \u001b[49m\u001b[38;5;241;43m0\u001b[39;49m\u001b[43m,\u001b[49m\u001b[43m \u001b[49m\u001b[43mrawmode\u001b[49m\u001b[43m)\u001b[49m\u001b[43m]\u001b[49m\u001b[43m)\u001b[49m\n\u001b[1;32m   1404\u001b[0m \u001b[38;5;28;01mif\u001b[39;00m info:\n\u001b[1;32m   1405\u001b[0m     \u001b[38;5;28;01mfor\u001b[39;00m info_chunk \u001b[38;5;129;01min\u001b[39;00m info\u001b[38;5;241m.\u001b[39mchunks:\n",
            "File \u001b[0;32m~/miniconda3/envs/rl-env/lib/python3.11/site-packages/PIL/ImageFile.py:540\u001b[0m, in \u001b[0;36m_save\u001b[0;34m(im, fp, tile, bufsize)\u001b[0m\n\u001b[1;32m    538\u001b[0m     _encode_tile(im, fp, tile, bufsize, fh)\n\u001b[1;32m    539\u001b[0m \u001b[38;5;28;01mexcept\u001b[39;00m (\u001b[38;5;167;01mAttributeError\u001b[39;00m, io\u001b[38;5;241m.\u001b[39mUnsupportedOperation) \u001b[38;5;28;01mas\u001b[39;00m exc:\n\u001b[0;32m--> 540\u001b[0m     \u001b[43m_encode_tile\u001b[49m\u001b[43m(\u001b[49m\u001b[43mim\u001b[49m\u001b[43m,\u001b[49m\u001b[43m \u001b[49m\u001b[43mfp\u001b[49m\u001b[43m,\u001b[49m\u001b[43m \u001b[49m\u001b[43mtile\u001b[49m\u001b[43m,\u001b[49m\u001b[43m \u001b[49m\u001b[43mbufsize\u001b[49m\u001b[43m,\u001b[49m\u001b[43m \u001b[49m\u001b[38;5;28;43;01mNone\u001b[39;49;00m\u001b[43m,\u001b[49m\u001b[43m \u001b[49m\u001b[43mexc\u001b[49m\u001b[43m)\u001b[49m\n\u001b[1;32m    541\u001b[0m \u001b[38;5;28;01mif\u001b[39;00m \u001b[38;5;28mhasattr\u001b[39m(fp, \u001b[38;5;124m\"\u001b[39m\u001b[38;5;124mflush\u001b[39m\u001b[38;5;124m\"\u001b[39m):\n\u001b[1;32m    542\u001b[0m     fp\u001b[38;5;241m.\u001b[39mflush()\n",
            "File \u001b[0;32m~/miniconda3/envs/rl-env/lib/python3.11/site-packages/PIL/ImageFile.py:559\u001b[0m, in \u001b[0;36m_encode_tile\u001b[0;34m(im, fp, tile, bufsize, fh, exc)\u001b[0m\n\u001b[1;32m    556\u001b[0m \u001b[38;5;28;01mif\u001b[39;00m exc:\n\u001b[1;32m    557\u001b[0m     \u001b[38;5;66;03m# compress to Python file-compatible object\u001b[39;00m\n\u001b[1;32m    558\u001b[0m     \u001b[38;5;28;01mwhile\u001b[39;00m \u001b[38;5;28;01mTrue\u001b[39;00m:\n\u001b[0;32m--> 559\u001b[0m         errcode, data \u001b[38;5;241m=\u001b[39m \u001b[43mencoder\u001b[49m\u001b[38;5;241;43m.\u001b[39;49m\u001b[43mencode\u001b[49m\u001b[43m(\u001b[49m\u001b[43mbufsize\u001b[49m\u001b[43m)\u001b[49m[\u001b[38;5;241m1\u001b[39m:]\n\u001b[1;32m    560\u001b[0m         fp\u001b[38;5;241m.\u001b[39mwrite(data)\n\u001b[1;32m    561\u001b[0m         \u001b[38;5;28;01mif\u001b[39;00m errcode:\n",
            "\u001b[0;31mKeyboardInterrupt\u001b[0m: "
          ]
        }
      ],
      "source": [
        "n_sessions = 100\n",
        "percentile = 70\n",
        "log = []\n",
        "\n",
        "for i in range(100):\n",
        "    # generate new sessions\n",
        "    sessions = [ generate_session(env, agent) for _ in range(n_sessions) ]\n",
        "\n",
        "    states_batch, actions_batch, rewards_batch = zip(*sessions)\n",
        "\n",
        "    elite_states, elite_actions = select_elites(states_batch, actions_batch, rewards_batch, percentile)\n",
        "    elite_states, elite_actions = map(np.array, (elite_states, elite_actions))\n",
        "\n",
        "    # <YOUR CODE: partial_fit agent to predict elite_actions(y) from elite_states(X)>\n",
        "    agent.fit(elite_states.reshape(-1, state_dim), elite_actions.reshape(-1, 1))\n",
        "\n",
        "    show_progress(\n",
        "        rewards_batch, log, percentile, reward_range=[0, np.max(rewards_batch)]\n",
        "    )\n",
        "\n",
        "    if np.mean(rewards_batch) > 190:\n",
        "        print(\"You Win! You may stop training now via KeyboardInterrupt.\")\n"
      ]
    },
    {
      "cell_type": "markdown",
      "metadata": {
        "id": "yeNWKjtsG9zM"
      },
      "source": [
        "# Results"
      ]
    },
    {
      "cell_type": "code",
      "execution_count": 12,
      "metadata": {},
      "outputs": [
        {
          "name": "stdout",
          "output_type": "stream",
          "text": [
            "Requirement already satisfied: moviepy in /Users/alexbuyan/miniconda3/envs/rl-env/lib/python3.11/site-packages (1.0.3)\n",
            "Requirement already satisfied: decorator<5.0,>=4.0.2 in /Users/alexbuyan/miniconda3/envs/rl-env/lib/python3.11/site-packages (from moviepy) (4.4.2)\n",
            "Requirement already satisfied: tqdm<5.0,>=4.11.2 in /Users/alexbuyan/miniconda3/envs/rl-env/lib/python3.11/site-packages (from moviepy) (4.66.2)\n",
            "Requirement already satisfied: requests<3.0,>=2.8.1 in /Users/alexbuyan/miniconda3/envs/rl-env/lib/python3.11/site-packages (from moviepy) (2.31.0)\n",
            "Requirement already satisfied: proglog<=1.0.0 in /Users/alexbuyan/miniconda3/envs/rl-env/lib/python3.11/site-packages (from moviepy) (0.1.10)\n",
            "Requirement already satisfied: numpy>=1.17.3 in /Users/alexbuyan/miniconda3/envs/rl-env/lib/python3.11/site-packages (from moviepy) (1.26.4)\n",
            "Requirement already satisfied: imageio<3.0,>=2.5 in /Users/alexbuyan/miniconda3/envs/rl-env/lib/python3.11/site-packages (from moviepy) (2.34.0)\n",
            "Requirement already satisfied: imageio-ffmpeg>=0.2.0 in /Users/alexbuyan/miniconda3/envs/rl-env/lib/python3.11/site-packages (from moviepy) (0.4.9)\n",
            "Requirement already satisfied: pillow>=8.3.2 in /Users/alexbuyan/miniconda3/envs/rl-env/lib/python3.11/site-packages (from imageio<3.0,>=2.5->moviepy) (10.2.0)\n",
            "Requirement already satisfied: setuptools in /Users/alexbuyan/miniconda3/envs/rl-env/lib/python3.11/site-packages (from imageio-ffmpeg>=0.2.0->moviepy) (68.2.2)\n",
            "Requirement already satisfied: charset-normalizer<4,>=2 in /Users/alexbuyan/miniconda3/envs/rl-env/lib/python3.11/site-packages (from requests<3.0,>=2.8.1->moviepy) (3.3.2)\n",
            "Requirement already satisfied: idna<4,>=2.5 in /Users/alexbuyan/miniconda3/envs/rl-env/lib/python3.11/site-packages (from requests<3.0,>=2.8.1->moviepy) (3.6)\n",
            "Requirement already satisfied: urllib3<3,>=1.21.1 in /Users/alexbuyan/miniconda3/envs/rl-env/lib/python3.11/site-packages (from requests<3.0,>=2.8.1->moviepy) (2.2.1)\n",
            "Requirement already satisfied: certifi>=2017.4.17 in /Users/alexbuyan/miniconda3/envs/rl-env/lib/python3.11/site-packages (from requests<3.0,>=2.8.1->moviepy) (2024.2.2)\n"
          ]
        }
      ],
      "source": [
        "!pip install moviepy"
      ]
    },
    {
      "cell_type": "code",
      "execution_count": 13,
      "metadata": {
        "id": "RJwsWl4kG9zM"
      },
      "outputs": [
        {
          "name": "stderr",
          "output_type": "stream",
          "text": [
            "/Users/alexbuyan/miniconda3/envs/rl-env/lib/python3.11/site-packages/gymnasium/envs/registration.py:523: DeprecationWarning: \u001b[33mWARN: The environment CartPole-v0 is out of date. You should consider upgrading to version `v1`.\u001b[0m\n",
            "  logger.deprecation(\n",
            "/Users/alexbuyan/miniconda3/envs/rl-env/lib/python3.11/site-packages/gymnasium/wrappers/record_video.py:87: UserWarning: \u001b[33mWARN: Overwriting existing videos at /Users/alexbuyan/projects/Practical_RL/week01_intro/videos folder (try specifying a different `video_folder` for the `RecordVideo` wrapper if this is not desired)\u001b[0m\n",
            "  logger.warn(\n"
          ]
        },
        {
          "name": "stdout",
          "output_type": "stream",
          "text": [
            "Moviepy - Building video /Users/alexbuyan/projects/Practical_RL/week01_intro/videos/rl-video-episode-0.mp4.\n",
            "Moviepy - Writing video /Users/alexbuyan/projects/Practical_RL/week01_intro/videos/rl-video-episode-0.mp4\n",
            "\n"
          ]
        },
        {
          "name": "stderr",
          "output_type": "stream",
          "text": [
            "                                                                "
          ]
        },
        {
          "name": "stdout",
          "output_type": "stream",
          "text": [
            "Moviepy - Done !\n",
            "Moviepy - video ready /Users/alexbuyan/projects/Practical_RL/week01_intro/videos/rl-video-episode-0.mp4\n"
          ]
        },
        {
          "name": "stderr",
          "output_type": "stream",
          "text": [
            "\r"
          ]
        },
        {
          "name": "stdout",
          "output_type": "stream",
          "text": [
            "Moviepy - Building video /Users/alexbuyan/projects/Practical_RL/week01_intro/videos/rl-video-episode-1.mp4.\n",
            "Moviepy - Writing video /Users/alexbuyan/projects/Practical_RL/week01_intro/videos/rl-video-episode-1.mp4\n",
            "\n"
          ]
        },
        {
          "name": "stderr",
          "output_type": "stream",
          "text": [
            "                                                                "
          ]
        },
        {
          "name": "stdout",
          "output_type": "stream",
          "text": [
            "Moviepy - Done !\n",
            "Moviepy - video ready /Users/alexbuyan/projects/Practical_RL/week01_intro/videos/rl-video-episode-1.mp4\n"
          ]
        },
        {
          "name": "stderr",
          "output_type": "stream",
          "text": [
            "\r"
          ]
        },
        {
          "name": "stdout",
          "output_type": "stream",
          "text": [
            "Moviepy - Building video /Users/alexbuyan/projects/Practical_RL/week01_intro/videos/rl-video-episode-2.mp4.\n",
            "Moviepy - Writing video /Users/alexbuyan/projects/Practical_RL/week01_intro/videos/rl-video-episode-2.mp4\n",
            "\n"
          ]
        },
        {
          "name": "stderr",
          "output_type": "stream",
          "text": [
            "                                                    "
          ]
        },
        {
          "name": "stdout",
          "output_type": "stream",
          "text": [
            "Moviepy - Done !\n",
            "Moviepy - video ready /Users/alexbuyan/projects/Practical_RL/week01_intro/videos/rl-video-episode-2.mp4\n"
          ]
        },
        {
          "name": "stderr",
          "output_type": "stream",
          "text": [
            "\r"
          ]
        },
        {
          "name": "stdout",
          "output_type": "stream",
          "text": [
            "Moviepy - Building video /Users/alexbuyan/projects/Practical_RL/week01_intro/videos/rl-video-episode-3.mp4.\n",
            "Moviepy - Writing video /Users/alexbuyan/projects/Practical_RL/week01_intro/videos/rl-video-episode-3.mp4\n",
            "\n"
          ]
        },
        {
          "name": "stderr",
          "output_type": "stream",
          "text": [
            "                                                                "
          ]
        },
        {
          "name": "stdout",
          "output_type": "stream",
          "text": [
            "Moviepy - Done !\n",
            "Moviepy - video ready /Users/alexbuyan/projects/Practical_RL/week01_intro/videos/rl-video-episode-3.mp4\n"
          ]
        },
        {
          "name": "stderr",
          "output_type": "stream",
          "text": [
            "\r"
          ]
        },
        {
          "name": "stdout",
          "output_type": "stream",
          "text": [
            "Moviepy - Building video /Users/alexbuyan/projects/Practical_RL/week01_intro/videos/rl-video-episode-4.mp4.\n",
            "Moviepy - Writing video /Users/alexbuyan/projects/Practical_RL/week01_intro/videos/rl-video-episode-4.mp4\n",
            "\n"
          ]
        },
        {
          "name": "stderr",
          "output_type": "stream",
          "text": [
            "                                                                "
          ]
        },
        {
          "name": "stdout",
          "output_type": "stream",
          "text": [
            "Moviepy - Done !\n",
            "Moviepy - video ready /Users/alexbuyan/projects/Practical_RL/week01_intro/videos/rl-video-episode-4.mp4\n"
          ]
        },
        {
          "name": "stderr",
          "output_type": "stream",
          "text": [
            "\r"
          ]
        },
        {
          "name": "stdout",
          "output_type": "stream",
          "text": [
            "Moviepy - Building video /Users/alexbuyan/projects/Practical_RL/week01_intro/videos/rl-video-episode-5.mp4.\n",
            "Moviepy - Writing video /Users/alexbuyan/projects/Practical_RL/week01_intro/videos/rl-video-episode-5.mp4\n",
            "\n"
          ]
        },
        {
          "name": "stderr",
          "output_type": "stream",
          "text": [
            "                                                                "
          ]
        },
        {
          "name": "stdout",
          "output_type": "stream",
          "text": [
            "Moviepy - Done !\n",
            "Moviepy - video ready /Users/alexbuyan/projects/Practical_RL/week01_intro/videos/rl-video-episode-5.mp4\n"
          ]
        },
        {
          "name": "stderr",
          "output_type": "stream",
          "text": [
            "\r"
          ]
        },
        {
          "name": "stdout",
          "output_type": "stream",
          "text": [
            "Moviepy - Building video /Users/alexbuyan/projects/Practical_RL/week01_intro/videos/rl-video-episode-6.mp4.\n",
            "Moviepy - Writing video /Users/alexbuyan/projects/Practical_RL/week01_intro/videos/rl-video-episode-6.mp4\n",
            "\n"
          ]
        },
        {
          "name": "stderr",
          "output_type": "stream",
          "text": [
            "                                                                "
          ]
        },
        {
          "name": "stdout",
          "output_type": "stream",
          "text": [
            "Moviepy - Done !\n",
            "Moviepy - video ready /Users/alexbuyan/projects/Practical_RL/week01_intro/videos/rl-video-episode-6.mp4\n"
          ]
        },
        {
          "name": "stderr",
          "output_type": "stream",
          "text": [
            "\r"
          ]
        },
        {
          "name": "stdout",
          "output_type": "stream",
          "text": [
            "Moviepy - Building video /Users/alexbuyan/projects/Practical_RL/week01_intro/videos/rl-video-episode-7.mp4.\n",
            "Moviepy - Writing video /Users/alexbuyan/projects/Practical_RL/week01_intro/videos/rl-video-episode-7.mp4\n",
            "\n"
          ]
        },
        {
          "name": "stderr",
          "output_type": "stream",
          "text": [
            "                                                                "
          ]
        },
        {
          "name": "stdout",
          "output_type": "stream",
          "text": [
            "Moviepy - Done !\n",
            "Moviepy - video ready /Users/alexbuyan/projects/Practical_RL/week01_intro/videos/rl-video-episode-7.mp4\n"
          ]
        },
        {
          "name": "stderr",
          "output_type": "stream",
          "text": [
            "\r"
          ]
        },
        {
          "name": "stdout",
          "output_type": "stream",
          "text": [
            "Moviepy - Building video /Users/alexbuyan/projects/Practical_RL/week01_intro/videos/rl-video-episode-8.mp4.\n",
            "Moviepy - Writing video /Users/alexbuyan/projects/Practical_RL/week01_intro/videos/rl-video-episode-8.mp4\n",
            "\n"
          ]
        },
        {
          "name": "stderr",
          "output_type": "stream",
          "text": [
            "                                                                "
          ]
        },
        {
          "name": "stdout",
          "output_type": "stream",
          "text": [
            "Moviepy - Done !\n",
            "Moviepy - video ready /Users/alexbuyan/projects/Practical_RL/week01_intro/videos/rl-video-episode-8.mp4\n"
          ]
        },
        {
          "name": "stderr",
          "output_type": "stream",
          "text": [
            "\r"
          ]
        },
        {
          "name": "stdout",
          "output_type": "stream",
          "text": [
            "Moviepy - Building video /Users/alexbuyan/projects/Practical_RL/week01_intro/videos/rl-video-episode-9.mp4.\n",
            "Moviepy - Writing video /Users/alexbuyan/projects/Practical_RL/week01_intro/videos/rl-video-episode-9.mp4\n",
            "\n"
          ]
        },
        {
          "name": "stderr",
          "output_type": "stream",
          "text": [
            "                                                                "
          ]
        },
        {
          "name": "stdout",
          "output_type": "stream",
          "text": [
            "Moviepy - Done !\n",
            "Moviepy - video ready /Users/alexbuyan/projects/Practical_RL/week01_intro/videos/rl-video-episode-9.mp4\n"
          ]
        },
        {
          "name": "stderr",
          "output_type": "stream",
          "text": [
            "\r"
          ]
        },
        {
          "name": "stdout",
          "output_type": "stream",
          "text": [
            "Moviepy - Building video /Users/alexbuyan/projects/Practical_RL/week01_intro/videos/rl-video-episode-10.mp4.\n",
            "Moviepy - Writing video /Users/alexbuyan/projects/Practical_RL/week01_intro/videos/rl-video-episode-10.mp4\n",
            "\n"
          ]
        },
        {
          "name": "stderr",
          "output_type": "stream",
          "text": [
            "                                                                "
          ]
        },
        {
          "name": "stdout",
          "output_type": "stream",
          "text": [
            "Moviepy - Done !\n",
            "Moviepy - video ready /Users/alexbuyan/projects/Practical_RL/week01_intro/videos/rl-video-episode-10.mp4\n"
          ]
        },
        {
          "name": "stderr",
          "output_type": "stream",
          "text": [
            "\r"
          ]
        },
        {
          "name": "stdout",
          "output_type": "stream",
          "text": [
            "Moviepy - Building video /Users/alexbuyan/projects/Practical_RL/week01_intro/videos/rl-video-episode-11.mp4.\n",
            "Moviepy - Writing video /Users/alexbuyan/projects/Practical_RL/week01_intro/videos/rl-video-episode-11.mp4\n",
            "\n"
          ]
        },
        {
          "name": "stderr",
          "output_type": "stream",
          "text": [
            "                                                    "
          ]
        },
        {
          "name": "stdout",
          "output_type": "stream",
          "text": [
            "Moviepy - Done !\n",
            "Moviepy - video ready /Users/alexbuyan/projects/Practical_RL/week01_intro/videos/rl-video-episode-11.mp4\n"
          ]
        },
        {
          "name": "stderr",
          "output_type": "stream",
          "text": [
            "\r"
          ]
        },
        {
          "name": "stdout",
          "output_type": "stream",
          "text": [
            "Moviepy - Building video /Users/alexbuyan/projects/Practical_RL/week01_intro/videos/rl-video-episode-12.mp4.\n",
            "Moviepy - Writing video /Users/alexbuyan/projects/Practical_RL/week01_intro/videos/rl-video-episode-12.mp4\n",
            "\n"
          ]
        },
        {
          "name": "stderr",
          "output_type": "stream",
          "text": [
            "                                                                "
          ]
        },
        {
          "name": "stdout",
          "output_type": "stream",
          "text": [
            "Moviepy - Done !\n",
            "Moviepy - video ready /Users/alexbuyan/projects/Practical_RL/week01_intro/videos/rl-video-episode-12.mp4\n"
          ]
        },
        {
          "name": "stderr",
          "output_type": "stream",
          "text": [
            "\r"
          ]
        },
        {
          "name": "stdout",
          "output_type": "stream",
          "text": [
            "Moviepy - Building video /Users/alexbuyan/projects/Practical_RL/week01_intro/videos/rl-video-episode-13.mp4.\n",
            "Moviepy - Writing video /Users/alexbuyan/projects/Practical_RL/week01_intro/videos/rl-video-episode-13.mp4\n",
            "\n"
          ]
        },
        {
          "name": "stderr",
          "output_type": "stream",
          "text": [
            "                                                                "
          ]
        },
        {
          "name": "stdout",
          "output_type": "stream",
          "text": [
            "Moviepy - Done !\n",
            "Moviepy - video ready /Users/alexbuyan/projects/Practical_RL/week01_intro/videos/rl-video-episode-13.mp4\n"
          ]
        },
        {
          "name": "stderr",
          "output_type": "stream",
          "text": [
            "\r"
          ]
        },
        {
          "name": "stdout",
          "output_type": "stream",
          "text": [
            "Moviepy - Building video /Users/alexbuyan/projects/Practical_RL/week01_intro/videos/rl-video-episode-14.mp4.\n",
            "Moviepy - Writing video /Users/alexbuyan/projects/Practical_RL/week01_intro/videos/rl-video-episode-14.mp4\n",
            "\n"
          ]
        },
        {
          "name": "stderr",
          "output_type": "stream",
          "text": [
            "                                                                "
          ]
        },
        {
          "name": "stdout",
          "output_type": "stream",
          "text": [
            "Moviepy - Done !\n",
            "Moviepy - video ready /Users/alexbuyan/projects/Practical_RL/week01_intro/videos/rl-video-episode-14.mp4\n"
          ]
        },
        {
          "name": "stderr",
          "output_type": "stream",
          "text": [
            "\r"
          ]
        },
        {
          "name": "stdout",
          "output_type": "stream",
          "text": [
            "Moviepy - Building video /Users/alexbuyan/projects/Practical_RL/week01_intro/videos/rl-video-episode-15.mp4.\n",
            "Moviepy - Writing video /Users/alexbuyan/projects/Practical_RL/week01_intro/videos/rl-video-episode-15.mp4\n",
            "\n"
          ]
        },
        {
          "name": "stderr",
          "output_type": "stream",
          "text": [
            "                                                                "
          ]
        },
        {
          "name": "stdout",
          "output_type": "stream",
          "text": [
            "Moviepy - Done !\n",
            "Moviepy - video ready /Users/alexbuyan/projects/Practical_RL/week01_intro/videos/rl-video-episode-15.mp4\n"
          ]
        },
        {
          "name": "stderr",
          "output_type": "stream",
          "text": [
            "\r"
          ]
        },
        {
          "name": "stdout",
          "output_type": "stream",
          "text": [
            "Moviepy - Building video /Users/alexbuyan/projects/Practical_RL/week01_intro/videos/rl-video-episode-16.mp4.\n",
            "Moviepy - Writing video /Users/alexbuyan/projects/Practical_RL/week01_intro/videos/rl-video-episode-16.mp4\n",
            "\n"
          ]
        },
        {
          "name": "stderr",
          "output_type": "stream",
          "text": [
            "                                                                "
          ]
        },
        {
          "name": "stdout",
          "output_type": "stream",
          "text": [
            "Moviepy - Done !\n",
            "Moviepy - video ready /Users/alexbuyan/projects/Practical_RL/week01_intro/videos/rl-video-episode-16.mp4\n"
          ]
        },
        {
          "name": "stderr",
          "output_type": "stream",
          "text": [
            "\r"
          ]
        },
        {
          "name": "stdout",
          "output_type": "stream",
          "text": [
            "Moviepy - Building video /Users/alexbuyan/projects/Practical_RL/week01_intro/videos/rl-video-episode-17.mp4.\n",
            "Moviepy - Writing video /Users/alexbuyan/projects/Practical_RL/week01_intro/videos/rl-video-episode-17.mp4\n",
            "\n"
          ]
        },
        {
          "name": "stderr",
          "output_type": "stream",
          "text": [
            "                                                                "
          ]
        },
        {
          "name": "stdout",
          "output_type": "stream",
          "text": [
            "Moviepy - Done !\n",
            "Moviepy - video ready /Users/alexbuyan/projects/Practical_RL/week01_intro/videos/rl-video-episode-17.mp4\n"
          ]
        },
        {
          "name": "stderr",
          "output_type": "stream",
          "text": [
            "\r"
          ]
        },
        {
          "name": "stdout",
          "output_type": "stream",
          "text": [
            "Moviepy - Building video /Users/alexbuyan/projects/Practical_RL/week01_intro/videos/rl-video-episode-18.mp4.\n",
            "Moviepy - Writing video /Users/alexbuyan/projects/Practical_RL/week01_intro/videos/rl-video-episode-18.mp4\n",
            "\n"
          ]
        },
        {
          "name": "stderr",
          "output_type": "stream",
          "text": [
            "                                                                "
          ]
        },
        {
          "name": "stdout",
          "output_type": "stream",
          "text": [
            "Moviepy - Done !\n",
            "Moviepy - video ready /Users/alexbuyan/projects/Practical_RL/week01_intro/videos/rl-video-episode-18.mp4\n"
          ]
        },
        {
          "name": "stderr",
          "output_type": "stream",
          "text": [
            "\r"
          ]
        },
        {
          "name": "stdout",
          "output_type": "stream",
          "text": [
            "Moviepy - Building video /Users/alexbuyan/projects/Practical_RL/week01_intro/videos/rl-video-episode-19.mp4.\n",
            "Moviepy - Writing video /Users/alexbuyan/projects/Practical_RL/week01_intro/videos/rl-video-episode-19.mp4\n",
            "\n"
          ]
        },
        {
          "name": "stderr",
          "output_type": "stream",
          "text": [
            "                                                                "
          ]
        },
        {
          "name": "stdout",
          "output_type": "stream",
          "text": [
            "Moviepy - Done !\n",
            "Moviepy - video ready /Users/alexbuyan/projects/Practical_RL/week01_intro/videos/rl-video-episode-19.mp4\n"
          ]
        },
        {
          "name": "stderr",
          "output_type": "stream",
          "text": [
            "\r"
          ]
        },
        {
          "name": "stdout",
          "output_type": "stream",
          "text": [
            "Moviepy - Building video /Users/alexbuyan/projects/Practical_RL/week01_intro/videos/rl-video-episode-20.mp4.\n",
            "Moviepy - Writing video /Users/alexbuyan/projects/Practical_RL/week01_intro/videos/rl-video-episode-20.mp4\n",
            "\n"
          ]
        },
        {
          "name": "stderr",
          "output_type": "stream",
          "text": [
            "                                                                \r"
          ]
        },
        {
          "name": "stdout",
          "output_type": "stream",
          "text": [
            "Moviepy - Done !\n",
            "Moviepy - video ready /Users/alexbuyan/projects/Practical_RL/week01_intro/videos/rl-video-episode-20.mp4\n",
            "Moviepy - Building video /Users/alexbuyan/projects/Practical_RL/week01_intro/videos/rl-video-episode-21.mp4.\n",
            "Moviepy - Writing video /Users/alexbuyan/projects/Practical_RL/week01_intro/videos/rl-video-episode-21.mp4\n",
            "\n"
          ]
        },
        {
          "name": "stderr",
          "output_type": "stream",
          "text": [
            "                                                                \r"
          ]
        },
        {
          "name": "stdout",
          "output_type": "stream",
          "text": [
            "Moviepy - Done !\n",
            "Moviepy - video ready /Users/alexbuyan/projects/Practical_RL/week01_intro/videos/rl-video-episode-21.mp4\n",
            "Moviepy - Building video /Users/alexbuyan/projects/Practical_RL/week01_intro/videos/rl-video-episode-22.mp4.\n",
            "Moviepy - Writing video /Users/alexbuyan/projects/Practical_RL/week01_intro/videos/rl-video-episode-22.mp4\n",
            "\n"
          ]
        },
        {
          "name": "stderr",
          "output_type": "stream",
          "text": [
            "                                                                \r"
          ]
        },
        {
          "name": "stdout",
          "output_type": "stream",
          "text": [
            "Moviepy - Done !\n",
            "Moviepy - video ready /Users/alexbuyan/projects/Practical_RL/week01_intro/videos/rl-video-episode-22.mp4\n",
            "Moviepy - Building video /Users/alexbuyan/projects/Practical_RL/week01_intro/videos/rl-video-episode-23.mp4.\n",
            "Moviepy - Writing video /Users/alexbuyan/projects/Practical_RL/week01_intro/videos/rl-video-episode-23.mp4\n",
            "\n"
          ]
        },
        {
          "name": "stderr",
          "output_type": "stream",
          "text": [
            "                                                                \r"
          ]
        },
        {
          "name": "stdout",
          "output_type": "stream",
          "text": [
            "Moviepy - Done !\n",
            "Moviepy - video ready /Users/alexbuyan/projects/Practical_RL/week01_intro/videos/rl-video-episode-23.mp4\n",
            "Moviepy - Building video /Users/alexbuyan/projects/Practical_RL/week01_intro/videos/rl-video-episode-24.mp4.\n",
            "Moviepy - Writing video /Users/alexbuyan/projects/Practical_RL/week01_intro/videos/rl-video-episode-24.mp4\n",
            "\n"
          ]
        },
        {
          "name": "stderr",
          "output_type": "stream",
          "text": [
            "                                                                \r"
          ]
        },
        {
          "name": "stdout",
          "output_type": "stream",
          "text": [
            "Moviepy - Done !\n",
            "Moviepy - video ready /Users/alexbuyan/projects/Practical_RL/week01_intro/videos/rl-video-episode-24.mp4\n",
            "Moviepy - Building video /Users/alexbuyan/projects/Practical_RL/week01_intro/videos/rl-video-episode-25.mp4.\n",
            "Moviepy - Writing video /Users/alexbuyan/projects/Practical_RL/week01_intro/videos/rl-video-episode-25.mp4\n",
            "\n"
          ]
        },
        {
          "name": "stderr",
          "output_type": "stream",
          "text": [
            "                                                                \r"
          ]
        },
        {
          "name": "stdout",
          "output_type": "stream",
          "text": [
            "Moviepy - Done !\n",
            "Moviepy - video ready /Users/alexbuyan/projects/Practical_RL/week01_intro/videos/rl-video-episode-25.mp4\n",
            "Moviepy - Building video /Users/alexbuyan/projects/Practical_RL/week01_intro/videos/rl-video-episode-26.mp4.\n",
            "Moviepy - Writing video /Users/alexbuyan/projects/Practical_RL/week01_intro/videos/rl-video-episode-26.mp4\n",
            "\n"
          ]
        },
        {
          "name": "stderr",
          "output_type": "stream",
          "text": [
            "                                                                \r"
          ]
        },
        {
          "name": "stdout",
          "output_type": "stream",
          "text": [
            "Moviepy - Done !\n",
            "Moviepy - video ready /Users/alexbuyan/projects/Practical_RL/week01_intro/videos/rl-video-episode-26.mp4\n",
            "Moviepy - Building video /Users/alexbuyan/projects/Practical_RL/week01_intro/videos/rl-video-episode-27.mp4.\n",
            "Moviepy - Writing video /Users/alexbuyan/projects/Practical_RL/week01_intro/videos/rl-video-episode-27.mp4\n",
            "\n"
          ]
        },
        {
          "name": "stderr",
          "output_type": "stream",
          "text": [
            "                                                                \r"
          ]
        },
        {
          "name": "stdout",
          "output_type": "stream",
          "text": [
            "Moviepy - Done !\n",
            "Moviepy - video ready /Users/alexbuyan/projects/Practical_RL/week01_intro/videos/rl-video-episode-27.mp4\n",
            "Moviepy - Building video /Users/alexbuyan/projects/Practical_RL/week01_intro/videos/rl-video-episode-28.mp4.\n",
            "Moviepy - Writing video /Users/alexbuyan/projects/Practical_RL/week01_intro/videos/rl-video-episode-28.mp4\n",
            "\n"
          ]
        },
        {
          "name": "stderr",
          "output_type": "stream",
          "text": [
            "                                                                \r"
          ]
        },
        {
          "name": "stdout",
          "output_type": "stream",
          "text": [
            "Moviepy - Done !\n",
            "Moviepy - video ready /Users/alexbuyan/projects/Practical_RL/week01_intro/videos/rl-video-episode-28.mp4\n",
            "Moviepy - Building video /Users/alexbuyan/projects/Practical_RL/week01_intro/videos/rl-video-episode-29.mp4.\n",
            "Moviepy - Writing video /Users/alexbuyan/projects/Practical_RL/week01_intro/videos/rl-video-episode-29.mp4\n",
            "\n"
          ]
        },
        {
          "name": "stderr",
          "output_type": "stream",
          "text": [
            "                                                                \r"
          ]
        },
        {
          "name": "stdout",
          "output_type": "stream",
          "text": [
            "Moviepy - Done !\n",
            "Moviepy - video ready /Users/alexbuyan/projects/Practical_RL/week01_intro/videos/rl-video-episode-29.mp4\n",
            "Moviepy - Building video /Users/alexbuyan/projects/Practical_RL/week01_intro/videos/rl-video-episode-30.mp4.\n",
            "Moviepy - Writing video /Users/alexbuyan/projects/Practical_RL/week01_intro/videos/rl-video-episode-30.mp4\n",
            "\n"
          ]
        },
        {
          "name": "stderr",
          "output_type": "stream",
          "text": [
            "                                                                \r"
          ]
        },
        {
          "name": "stdout",
          "output_type": "stream",
          "text": [
            "Moviepy - Done !\n",
            "Moviepy - video ready /Users/alexbuyan/projects/Practical_RL/week01_intro/videos/rl-video-episode-30.mp4\n",
            "Moviepy - Building video /Users/alexbuyan/projects/Practical_RL/week01_intro/videos/rl-video-episode-31.mp4.\n",
            "Moviepy - Writing video /Users/alexbuyan/projects/Practical_RL/week01_intro/videos/rl-video-episode-31.mp4\n",
            "\n"
          ]
        },
        {
          "name": "stderr",
          "output_type": "stream",
          "text": [
            "                                                                \r"
          ]
        },
        {
          "name": "stdout",
          "output_type": "stream",
          "text": [
            "Moviepy - Done !\n",
            "Moviepy - video ready /Users/alexbuyan/projects/Practical_RL/week01_intro/videos/rl-video-episode-31.mp4\n",
            "Moviepy - Building video /Users/alexbuyan/projects/Practical_RL/week01_intro/videos/rl-video-episode-32.mp4.\n",
            "Moviepy - Writing video /Users/alexbuyan/projects/Practical_RL/week01_intro/videos/rl-video-episode-32.mp4\n",
            "\n"
          ]
        },
        {
          "name": "stderr",
          "output_type": "stream",
          "text": [
            "                                                                \r"
          ]
        },
        {
          "name": "stdout",
          "output_type": "stream",
          "text": [
            "Moviepy - Done !\n",
            "Moviepy - video ready /Users/alexbuyan/projects/Practical_RL/week01_intro/videos/rl-video-episode-32.mp4\n",
            "Moviepy - Building video /Users/alexbuyan/projects/Practical_RL/week01_intro/videos/rl-video-episode-33.mp4.\n",
            "Moviepy - Writing video /Users/alexbuyan/projects/Practical_RL/week01_intro/videos/rl-video-episode-33.mp4\n",
            "\n"
          ]
        },
        {
          "name": "stderr",
          "output_type": "stream",
          "text": [
            "                                                                \r"
          ]
        },
        {
          "name": "stdout",
          "output_type": "stream",
          "text": [
            "Moviepy - Done !\n",
            "Moviepy - video ready /Users/alexbuyan/projects/Practical_RL/week01_intro/videos/rl-video-episode-33.mp4\n",
            "Moviepy - Building video /Users/alexbuyan/projects/Practical_RL/week01_intro/videos/rl-video-episode-34.mp4.\n",
            "Moviepy - Writing video /Users/alexbuyan/projects/Practical_RL/week01_intro/videos/rl-video-episode-34.mp4\n",
            "\n"
          ]
        },
        {
          "name": "stderr",
          "output_type": "stream",
          "text": [
            "                                                                \r"
          ]
        },
        {
          "name": "stdout",
          "output_type": "stream",
          "text": [
            "Moviepy - Done !\n",
            "Moviepy - video ready /Users/alexbuyan/projects/Practical_RL/week01_intro/videos/rl-video-episode-34.mp4\n",
            "Moviepy - Building video /Users/alexbuyan/projects/Practical_RL/week01_intro/videos/rl-video-episode-35.mp4.\n",
            "Moviepy - Writing video /Users/alexbuyan/projects/Practical_RL/week01_intro/videos/rl-video-episode-35.mp4\n",
            "\n"
          ]
        },
        {
          "name": "stderr",
          "output_type": "stream",
          "text": [
            "                                                                \r"
          ]
        },
        {
          "name": "stdout",
          "output_type": "stream",
          "text": [
            "Moviepy - Done !\n",
            "Moviepy - video ready /Users/alexbuyan/projects/Practical_RL/week01_intro/videos/rl-video-episode-35.mp4\n",
            "Moviepy - Building video /Users/alexbuyan/projects/Practical_RL/week01_intro/videos/rl-video-episode-36.mp4.\n",
            "Moviepy - Writing video /Users/alexbuyan/projects/Practical_RL/week01_intro/videos/rl-video-episode-36.mp4\n",
            "\n"
          ]
        },
        {
          "name": "stderr",
          "output_type": "stream",
          "text": [
            "                                                                \r"
          ]
        },
        {
          "name": "stdout",
          "output_type": "stream",
          "text": [
            "Moviepy - Done !\n",
            "Moviepy - video ready /Users/alexbuyan/projects/Practical_RL/week01_intro/videos/rl-video-episode-36.mp4\n",
            "Moviepy - Building video /Users/alexbuyan/projects/Practical_RL/week01_intro/videos/rl-video-episode-37.mp4.\n",
            "Moviepy - Writing video /Users/alexbuyan/projects/Practical_RL/week01_intro/videos/rl-video-episode-37.mp4\n",
            "\n"
          ]
        },
        {
          "name": "stderr",
          "output_type": "stream",
          "text": [
            "                                                                \r"
          ]
        },
        {
          "name": "stdout",
          "output_type": "stream",
          "text": [
            "Moviepy - Done !\n",
            "Moviepy - video ready /Users/alexbuyan/projects/Practical_RL/week01_intro/videos/rl-video-episode-37.mp4\n",
            "Moviepy - Building video /Users/alexbuyan/projects/Practical_RL/week01_intro/videos/rl-video-episode-38.mp4.\n",
            "Moviepy - Writing video /Users/alexbuyan/projects/Practical_RL/week01_intro/videos/rl-video-episode-38.mp4\n",
            "\n"
          ]
        },
        {
          "name": "stderr",
          "output_type": "stream",
          "text": [
            "                                                                \r"
          ]
        },
        {
          "name": "stdout",
          "output_type": "stream",
          "text": [
            "Moviepy - Done !\n",
            "Moviepy - video ready /Users/alexbuyan/projects/Practical_RL/week01_intro/videos/rl-video-episode-38.mp4\n",
            "Moviepy - Building video /Users/alexbuyan/projects/Practical_RL/week01_intro/videos/rl-video-episode-39.mp4.\n",
            "Moviepy - Writing video /Users/alexbuyan/projects/Practical_RL/week01_intro/videos/rl-video-episode-39.mp4\n",
            "\n"
          ]
        },
        {
          "name": "stderr",
          "output_type": "stream",
          "text": [
            "                                                                \r"
          ]
        },
        {
          "name": "stdout",
          "output_type": "stream",
          "text": [
            "Moviepy - Done !\n",
            "Moviepy - video ready /Users/alexbuyan/projects/Practical_RL/week01_intro/videos/rl-video-episode-39.mp4\n",
            "Moviepy - Building video /Users/alexbuyan/projects/Practical_RL/week01_intro/videos/rl-video-episode-40.mp4.\n",
            "Moviepy - Writing video /Users/alexbuyan/projects/Practical_RL/week01_intro/videos/rl-video-episode-40.mp4\n",
            "\n"
          ]
        },
        {
          "name": "stderr",
          "output_type": "stream",
          "text": [
            "                                                                \r"
          ]
        },
        {
          "name": "stdout",
          "output_type": "stream",
          "text": [
            "Moviepy - Done !\n",
            "Moviepy - video ready /Users/alexbuyan/projects/Practical_RL/week01_intro/videos/rl-video-episode-40.mp4\n",
            "Moviepy - Building video /Users/alexbuyan/projects/Practical_RL/week01_intro/videos/rl-video-episode-41.mp4.\n",
            "Moviepy - Writing video /Users/alexbuyan/projects/Practical_RL/week01_intro/videos/rl-video-episode-41.mp4\n",
            "\n"
          ]
        },
        {
          "name": "stderr",
          "output_type": "stream",
          "text": [
            "                                                                \r"
          ]
        },
        {
          "name": "stdout",
          "output_type": "stream",
          "text": [
            "Moviepy - Done !\n",
            "Moviepy - video ready /Users/alexbuyan/projects/Practical_RL/week01_intro/videos/rl-video-episode-41.mp4\n",
            "Moviepy - Building video /Users/alexbuyan/projects/Practical_RL/week01_intro/videos/rl-video-episode-42.mp4.\n",
            "Moviepy - Writing video /Users/alexbuyan/projects/Practical_RL/week01_intro/videos/rl-video-episode-42.mp4\n",
            "\n"
          ]
        },
        {
          "name": "stderr",
          "output_type": "stream",
          "text": [
            "                                                                \r"
          ]
        },
        {
          "name": "stdout",
          "output_type": "stream",
          "text": [
            "Moviepy - Done !\n",
            "Moviepy - video ready /Users/alexbuyan/projects/Practical_RL/week01_intro/videos/rl-video-episode-42.mp4\n",
            "Moviepy - Building video /Users/alexbuyan/projects/Practical_RL/week01_intro/videos/rl-video-episode-43.mp4.\n",
            "Moviepy - Writing video /Users/alexbuyan/projects/Practical_RL/week01_intro/videos/rl-video-episode-43.mp4\n",
            "\n"
          ]
        },
        {
          "name": "stderr",
          "output_type": "stream",
          "text": [
            "                                                    \r"
          ]
        },
        {
          "name": "stdout",
          "output_type": "stream",
          "text": [
            "Moviepy - Done !\n",
            "Moviepy - video ready /Users/alexbuyan/projects/Practical_RL/week01_intro/videos/rl-video-episode-43.mp4\n",
            "Moviepy - Building video /Users/alexbuyan/projects/Practical_RL/week01_intro/videos/rl-video-episode-44.mp4.\n",
            "Moviepy - Writing video /Users/alexbuyan/projects/Practical_RL/week01_intro/videos/rl-video-episode-44.mp4\n",
            "\n"
          ]
        },
        {
          "name": "stderr",
          "output_type": "stream",
          "text": [
            "                                                                \r"
          ]
        },
        {
          "name": "stdout",
          "output_type": "stream",
          "text": [
            "Moviepy - Done !\n",
            "Moviepy - video ready /Users/alexbuyan/projects/Practical_RL/week01_intro/videos/rl-video-episode-44.mp4\n",
            "Moviepy - Building video /Users/alexbuyan/projects/Practical_RL/week01_intro/videos/rl-video-episode-45.mp4.\n",
            "Moviepy - Writing video /Users/alexbuyan/projects/Practical_RL/week01_intro/videos/rl-video-episode-45.mp4\n",
            "\n"
          ]
        },
        {
          "name": "stderr",
          "output_type": "stream",
          "text": [
            "                                                                \r"
          ]
        },
        {
          "name": "stdout",
          "output_type": "stream",
          "text": [
            "Moviepy - Done !\n",
            "Moviepy - video ready /Users/alexbuyan/projects/Practical_RL/week01_intro/videos/rl-video-episode-45.mp4\n",
            "Moviepy - Building video /Users/alexbuyan/projects/Practical_RL/week01_intro/videos/rl-video-episode-46.mp4.\n",
            "Moviepy - Writing video /Users/alexbuyan/projects/Practical_RL/week01_intro/videos/rl-video-episode-46.mp4\n",
            "\n"
          ]
        },
        {
          "name": "stderr",
          "output_type": "stream",
          "text": [
            "                                                                \r"
          ]
        },
        {
          "name": "stdout",
          "output_type": "stream",
          "text": [
            "Moviepy - Done !\n",
            "Moviepy - video ready /Users/alexbuyan/projects/Practical_RL/week01_intro/videos/rl-video-episode-46.mp4\n",
            "Moviepy - Building video /Users/alexbuyan/projects/Practical_RL/week01_intro/videos/rl-video-episode-47.mp4.\n",
            "Moviepy - Writing video /Users/alexbuyan/projects/Practical_RL/week01_intro/videos/rl-video-episode-47.mp4\n",
            "\n"
          ]
        },
        {
          "name": "stderr",
          "output_type": "stream",
          "text": [
            "                                                                \r"
          ]
        },
        {
          "name": "stdout",
          "output_type": "stream",
          "text": [
            "Moviepy - Done !\n",
            "Moviepy - video ready /Users/alexbuyan/projects/Practical_RL/week01_intro/videos/rl-video-episode-47.mp4\n",
            "Moviepy - Building video /Users/alexbuyan/projects/Practical_RL/week01_intro/videos/rl-video-episode-48.mp4.\n",
            "Moviepy - Writing video /Users/alexbuyan/projects/Practical_RL/week01_intro/videos/rl-video-episode-48.mp4\n",
            "\n"
          ]
        },
        {
          "name": "stderr",
          "output_type": "stream",
          "text": [
            "                                                                \r"
          ]
        },
        {
          "name": "stdout",
          "output_type": "stream",
          "text": [
            "Moviepy - Done !\n",
            "Moviepy - video ready /Users/alexbuyan/projects/Practical_RL/week01_intro/videos/rl-video-episode-48.mp4\n",
            "Moviepy - Building video /Users/alexbuyan/projects/Practical_RL/week01_intro/videos/rl-video-episode-49.mp4.\n",
            "Moviepy - Writing video /Users/alexbuyan/projects/Practical_RL/week01_intro/videos/rl-video-episode-49.mp4\n",
            "\n"
          ]
        },
        {
          "name": "stderr",
          "output_type": "stream",
          "text": [
            "                                                                \r"
          ]
        },
        {
          "name": "stdout",
          "output_type": "stream",
          "text": [
            "Moviepy - Done !\n",
            "Moviepy - video ready /Users/alexbuyan/projects/Practical_RL/week01_intro/videos/rl-video-episode-49.mp4\n",
            "Moviepy - Building video /Users/alexbuyan/projects/Practical_RL/week01_intro/videos/rl-video-episode-50.mp4.\n",
            "Moviepy - Writing video /Users/alexbuyan/projects/Practical_RL/week01_intro/videos/rl-video-episode-50.mp4\n",
            "\n"
          ]
        },
        {
          "name": "stderr",
          "output_type": "stream",
          "text": [
            "                                                                \r"
          ]
        },
        {
          "name": "stdout",
          "output_type": "stream",
          "text": [
            "Moviepy - Done !\n",
            "Moviepy - video ready /Users/alexbuyan/projects/Practical_RL/week01_intro/videos/rl-video-episode-50.mp4\n",
            "Moviepy - Building video /Users/alexbuyan/projects/Practical_RL/week01_intro/videos/rl-video-episode-51.mp4.\n",
            "Moviepy - Writing video /Users/alexbuyan/projects/Practical_RL/week01_intro/videos/rl-video-episode-51.mp4\n",
            "\n"
          ]
        },
        {
          "name": "stderr",
          "output_type": "stream",
          "text": [
            "                                                                \r"
          ]
        },
        {
          "name": "stdout",
          "output_type": "stream",
          "text": [
            "Moviepy - Done !\n",
            "Moviepy - video ready /Users/alexbuyan/projects/Practical_RL/week01_intro/videos/rl-video-episode-51.mp4\n",
            "Moviepy - Building video /Users/alexbuyan/projects/Practical_RL/week01_intro/videos/rl-video-episode-52.mp4.\n",
            "Moviepy - Writing video /Users/alexbuyan/projects/Practical_RL/week01_intro/videos/rl-video-episode-52.mp4\n",
            "\n"
          ]
        },
        {
          "name": "stderr",
          "output_type": "stream",
          "text": [
            "                                                                \r"
          ]
        },
        {
          "name": "stdout",
          "output_type": "stream",
          "text": [
            "Moviepy - Done !\n",
            "Moviepy - video ready /Users/alexbuyan/projects/Practical_RL/week01_intro/videos/rl-video-episode-52.mp4\n",
            "Moviepy - Building video /Users/alexbuyan/projects/Practical_RL/week01_intro/videos/rl-video-episode-53.mp4.\n",
            "Moviepy - Writing video /Users/alexbuyan/projects/Practical_RL/week01_intro/videos/rl-video-episode-53.mp4\n",
            "\n"
          ]
        },
        {
          "name": "stderr",
          "output_type": "stream",
          "text": [
            "                                                    \r"
          ]
        },
        {
          "name": "stdout",
          "output_type": "stream",
          "text": [
            "Moviepy - Done !\n",
            "Moviepy - video ready /Users/alexbuyan/projects/Practical_RL/week01_intro/videos/rl-video-episode-53.mp4\n",
            "Moviepy - Building video /Users/alexbuyan/projects/Practical_RL/week01_intro/videos/rl-video-episode-54.mp4.\n",
            "Moviepy - Writing video /Users/alexbuyan/projects/Practical_RL/week01_intro/videos/rl-video-episode-54.mp4\n",
            "\n"
          ]
        },
        {
          "name": "stderr",
          "output_type": "stream",
          "text": [
            "                                                                \r"
          ]
        },
        {
          "name": "stdout",
          "output_type": "stream",
          "text": [
            "Moviepy - Done !\n",
            "Moviepy - video ready /Users/alexbuyan/projects/Practical_RL/week01_intro/videos/rl-video-episode-54.mp4\n",
            "Moviepy - Building video /Users/alexbuyan/projects/Practical_RL/week01_intro/videos/rl-video-episode-55.mp4.\n",
            "Moviepy - Writing video /Users/alexbuyan/projects/Practical_RL/week01_intro/videos/rl-video-episode-55.mp4\n",
            "\n"
          ]
        },
        {
          "name": "stderr",
          "output_type": "stream",
          "text": [
            "                                                                \r"
          ]
        },
        {
          "name": "stdout",
          "output_type": "stream",
          "text": [
            "Moviepy - Done !\n",
            "Moviepy - video ready /Users/alexbuyan/projects/Practical_RL/week01_intro/videos/rl-video-episode-55.mp4\n",
            "Moviepy - Building video /Users/alexbuyan/projects/Practical_RL/week01_intro/videos/rl-video-episode-56.mp4.\n",
            "Moviepy - Writing video /Users/alexbuyan/projects/Practical_RL/week01_intro/videos/rl-video-episode-56.mp4\n",
            "\n"
          ]
        },
        {
          "name": "stderr",
          "output_type": "stream",
          "text": [
            "                                                                \r"
          ]
        },
        {
          "name": "stdout",
          "output_type": "stream",
          "text": [
            "Moviepy - Done !\n",
            "Moviepy - video ready /Users/alexbuyan/projects/Practical_RL/week01_intro/videos/rl-video-episode-56.mp4\n",
            "Moviepy - Building video /Users/alexbuyan/projects/Practical_RL/week01_intro/videos/rl-video-episode-57.mp4.\n",
            "Moviepy - Writing video /Users/alexbuyan/projects/Practical_RL/week01_intro/videos/rl-video-episode-57.mp4\n",
            "\n"
          ]
        },
        {
          "name": "stderr",
          "output_type": "stream",
          "text": [
            "                                                                \r"
          ]
        },
        {
          "name": "stdout",
          "output_type": "stream",
          "text": [
            "Moviepy - Done !\n",
            "Moviepy - video ready /Users/alexbuyan/projects/Practical_RL/week01_intro/videos/rl-video-episode-57.mp4\n",
            "Moviepy - Building video /Users/alexbuyan/projects/Practical_RL/week01_intro/videos/rl-video-episode-58.mp4.\n",
            "Moviepy - Writing video /Users/alexbuyan/projects/Practical_RL/week01_intro/videos/rl-video-episode-58.mp4\n",
            "\n"
          ]
        },
        {
          "name": "stderr",
          "output_type": "stream",
          "text": [
            "                                                                \r"
          ]
        },
        {
          "name": "stdout",
          "output_type": "stream",
          "text": [
            "Moviepy - Done !\n",
            "Moviepy - video ready /Users/alexbuyan/projects/Practical_RL/week01_intro/videos/rl-video-episode-58.mp4\n",
            "Moviepy - Building video /Users/alexbuyan/projects/Practical_RL/week01_intro/videos/rl-video-episode-59.mp4.\n",
            "Moviepy - Writing video /Users/alexbuyan/projects/Practical_RL/week01_intro/videos/rl-video-episode-59.mp4\n",
            "\n"
          ]
        },
        {
          "name": "stderr",
          "output_type": "stream",
          "text": [
            "                                                                \r"
          ]
        },
        {
          "name": "stdout",
          "output_type": "stream",
          "text": [
            "Moviepy - Done !\n",
            "Moviepy - video ready /Users/alexbuyan/projects/Practical_RL/week01_intro/videos/rl-video-episode-59.mp4\n",
            "Moviepy - Building video /Users/alexbuyan/projects/Practical_RL/week01_intro/videos/rl-video-episode-60.mp4.\n",
            "Moviepy - Writing video /Users/alexbuyan/projects/Practical_RL/week01_intro/videos/rl-video-episode-60.mp4\n",
            "\n"
          ]
        },
        {
          "name": "stderr",
          "output_type": "stream",
          "text": [
            "                                                                \r"
          ]
        },
        {
          "name": "stdout",
          "output_type": "stream",
          "text": [
            "Moviepy - Done !\n",
            "Moviepy - video ready /Users/alexbuyan/projects/Practical_RL/week01_intro/videos/rl-video-episode-60.mp4\n",
            "Moviepy - Building video /Users/alexbuyan/projects/Practical_RL/week01_intro/videos/rl-video-episode-61.mp4.\n",
            "Moviepy - Writing video /Users/alexbuyan/projects/Practical_RL/week01_intro/videos/rl-video-episode-61.mp4\n",
            "\n"
          ]
        },
        {
          "name": "stderr",
          "output_type": "stream",
          "text": [
            "                                                                \r"
          ]
        },
        {
          "name": "stdout",
          "output_type": "stream",
          "text": [
            "Moviepy - Done !\n",
            "Moviepy - video ready /Users/alexbuyan/projects/Practical_RL/week01_intro/videos/rl-video-episode-61.mp4\n",
            "Moviepy - Building video /Users/alexbuyan/projects/Practical_RL/week01_intro/videos/rl-video-episode-62.mp4.\n",
            "Moviepy - Writing video /Users/alexbuyan/projects/Practical_RL/week01_intro/videos/rl-video-episode-62.mp4\n",
            "\n"
          ]
        },
        {
          "name": "stderr",
          "output_type": "stream",
          "text": [
            "                                                                \r"
          ]
        },
        {
          "name": "stdout",
          "output_type": "stream",
          "text": [
            "Moviepy - Done !\n",
            "Moviepy - video ready /Users/alexbuyan/projects/Practical_RL/week01_intro/videos/rl-video-episode-62.mp4\n",
            "Moviepy - Building video /Users/alexbuyan/projects/Practical_RL/week01_intro/videos/rl-video-episode-63.mp4.\n",
            "Moviepy - Writing video /Users/alexbuyan/projects/Practical_RL/week01_intro/videos/rl-video-episode-63.mp4\n",
            "\n"
          ]
        },
        {
          "name": "stderr",
          "output_type": "stream",
          "text": [
            "                                                                \r"
          ]
        },
        {
          "name": "stdout",
          "output_type": "stream",
          "text": [
            "Moviepy - Done !\n",
            "Moviepy - video ready /Users/alexbuyan/projects/Practical_RL/week01_intro/videos/rl-video-episode-63.mp4\n",
            "Moviepy - Building video /Users/alexbuyan/projects/Practical_RL/week01_intro/videos/rl-video-episode-64.mp4.\n",
            "Moviepy - Writing video /Users/alexbuyan/projects/Practical_RL/week01_intro/videos/rl-video-episode-64.mp4\n",
            "\n"
          ]
        },
        {
          "name": "stderr",
          "output_type": "stream",
          "text": [
            "                                                                \r"
          ]
        },
        {
          "name": "stdout",
          "output_type": "stream",
          "text": [
            "Moviepy - Done !\n",
            "Moviepy - video ready /Users/alexbuyan/projects/Practical_RL/week01_intro/videos/rl-video-episode-64.mp4\n",
            "Moviepy - Building video /Users/alexbuyan/projects/Practical_RL/week01_intro/videos/rl-video-episode-65.mp4.\n",
            "Moviepy - Writing video /Users/alexbuyan/projects/Practical_RL/week01_intro/videos/rl-video-episode-65.mp4\n",
            "\n"
          ]
        },
        {
          "name": "stderr",
          "output_type": "stream",
          "text": [
            "                                                    \r"
          ]
        },
        {
          "name": "stdout",
          "output_type": "stream",
          "text": [
            "Moviepy - Done !\n",
            "Moviepy - video ready /Users/alexbuyan/projects/Practical_RL/week01_intro/videos/rl-video-episode-65.mp4\n",
            "Moviepy - Building video /Users/alexbuyan/projects/Practical_RL/week01_intro/videos/rl-video-episode-66.mp4.\n",
            "Moviepy - Writing video /Users/alexbuyan/projects/Practical_RL/week01_intro/videos/rl-video-episode-66.mp4\n",
            "\n"
          ]
        },
        {
          "name": "stderr",
          "output_type": "stream",
          "text": [
            "                                                                \r"
          ]
        },
        {
          "name": "stdout",
          "output_type": "stream",
          "text": [
            "Moviepy - Done !\n",
            "Moviepy - video ready /Users/alexbuyan/projects/Practical_RL/week01_intro/videos/rl-video-episode-66.mp4\n",
            "Moviepy - Building video /Users/alexbuyan/projects/Practical_RL/week01_intro/videos/rl-video-episode-67.mp4.\n",
            "Moviepy - Writing video /Users/alexbuyan/projects/Practical_RL/week01_intro/videos/rl-video-episode-67.mp4\n",
            "\n"
          ]
        },
        {
          "name": "stderr",
          "output_type": "stream",
          "text": [
            "                                                                \r"
          ]
        },
        {
          "name": "stdout",
          "output_type": "stream",
          "text": [
            "Moviepy - Done !\n",
            "Moviepy - video ready /Users/alexbuyan/projects/Practical_RL/week01_intro/videos/rl-video-episode-67.mp4\n",
            "Moviepy - Building video /Users/alexbuyan/projects/Practical_RL/week01_intro/videos/rl-video-episode-68.mp4.\n",
            "Moviepy - Writing video /Users/alexbuyan/projects/Practical_RL/week01_intro/videos/rl-video-episode-68.mp4\n",
            "\n"
          ]
        },
        {
          "name": "stderr",
          "output_type": "stream",
          "text": [
            "                                                                \r"
          ]
        },
        {
          "name": "stdout",
          "output_type": "stream",
          "text": [
            "Moviepy - Done !\n",
            "Moviepy - video ready /Users/alexbuyan/projects/Practical_RL/week01_intro/videos/rl-video-episode-68.mp4\n",
            "Moviepy - Building video /Users/alexbuyan/projects/Practical_RL/week01_intro/videos/rl-video-episode-69.mp4.\n",
            "Moviepy - Writing video /Users/alexbuyan/projects/Practical_RL/week01_intro/videos/rl-video-episode-69.mp4\n",
            "\n"
          ]
        },
        {
          "name": "stderr",
          "output_type": "stream",
          "text": [
            "                                                                \r"
          ]
        },
        {
          "name": "stdout",
          "output_type": "stream",
          "text": [
            "Moviepy - Done !\n",
            "Moviepy - video ready /Users/alexbuyan/projects/Practical_RL/week01_intro/videos/rl-video-episode-69.mp4\n",
            "Moviepy - Building video /Users/alexbuyan/projects/Practical_RL/week01_intro/videos/rl-video-episode-70.mp4.\n",
            "Moviepy - Writing video /Users/alexbuyan/projects/Practical_RL/week01_intro/videos/rl-video-episode-70.mp4\n",
            "\n"
          ]
        },
        {
          "name": "stderr",
          "output_type": "stream",
          "text": [
            "                                                                \r"
          ]
        },
        {
          "name": "stdout",
          "output_type": "stream",
          "text": [
            "Moviepy - Done !\n",
            "Moviepy - video ready /Users/alexbuyan/projects/Practical_RL/week01_intro/videos/rl-video-episode-70.mp4\n",
            "Moviepy - Building video /Users/alexbuyan/projects/Practical_RL/week01_intro/videos/rl-video-episode-71.mp4.\n",
            "Moviepy - Writing video /Users/alexbuyan/projects/Practical_RL/week01_intro/videos/rl-video-episode-71.mp4\n",
            "\n"
          ]
        },
        {
          "name": "stderr",
          "output_type": "stream",
          "text": [
            "                                                                \r"
          ]
        },
        {
          "name": "stdout",
          "output_type": "stream",
          "text": [
            "Moviepy - Done !\n",
            "Moviepy - video ready /Users/alexbuyan/projects/Practical_RL/week01_intro/videos/rl-video-episode-71.mp4\n",
            "Moviepy - Building video /Users/alexbuyan/projects/Practical_RL/week01_intro/videos/rl-video-episode-72.mp4.\n",
            "Moviepy - Writing video /Users/alexbuyan/projects/Practical_RL/week01_intro/videos/rl-video-episode-72.mp4\n",
            "\n"
          ]
        },
        {
          "name": "stderr",
          "output_type": "stream",
          "text": [
            "                                                                \r"
          ]
        },
        {
          "name": "stdout",
          "output_type": "stream",
          "text": [
            "Moviepy - Done !\n",
            "Moviepy - video ready /Users/alexbuyan/projects/Practical_RL/week01_intro/videos/rl-video-episode-72.mp4\n",
            "Moviepy - Building video /Users/alexbuyan/projects/Practical_RL/week01_intro/videos/rl-video-episode-73.mp4.\n",
            "Moviepy - Writing video /Users/alexbuyan/projects/Practical_RL/week01_intro/videos/rl-video-episode-73.mp4\n",
            "\n"
          ]
        },
        {
          "name": "stderr",
          "output_type": "stream",
          "text": [
            "                                                                \r"
          ]
        },
        {
          "name": "stdout",
          "output_type": "stream",
          "text": [
            "Moviepy - Done !\n",
            "Moviepy - video ready /Users/alexbuyan/projects/Practical_RL/week01_intro/videos/rl-video-episode-73.mp4\n",
            "Moviepy - Building video /Users/alexbuyan/projects/Practical_RL/week01_intro/videos/rl-video-episode-74.mp4.\n",
            "Moviepy - Writing video /Users/alexbuyan/projects/Practical_RL/week01_intro/videos/rl-video-episode-74.mp4\n",
            "\n"
          ]
        },
        {
          "name": "stderr",
          "output_type": "stream",
          "text": [
            "                                                                \r"
          ]
        },
        {
          "name": "stdout",
          "output_type": "stream",
          "text": [
            "Moviepy - Done !\n",
            "Moviepy - video ready /Users/alexbuyan/projects/Practical_RL/week01_intro/videos/rl-video-episode-74.mp4\n",
            "Moviepy - Building video /Users/alexbuyan/projects/Practical_RL/week01_intro/videos/rl-video-episode-75.mp4.\n",
            "Moviepy - Writing video /Users/alexbuyan/projects/Practical_RL/week01_intro/videos/rl-video-episode-75.mp4\n",
            "\n"
          ]
        },
        {
          "name": "stderr",
          "output_type": "stream",
          "text": [
            "                                                                \r"
          ]
        },
        {
          "name": "stdout",
          "output_type": "stream",
          "text": [
            "Moviepy - Done !\n",
            "Moviepy - video ready /Users/alexbuyan/projects/Practical_RL/week01_intro/videos/rl-video-episode-75.mp4\n",
            "Moviepy - Building video /Users/alexbuyan/projects/Practical_RL/week01_intro/videos/rl-video-episode-76.mp4.\n",
            "Moviepy - Writing video /Users/alexbuyan/projects/Practical_RL/week01_intro/videos/rl-video-episode-76.mp4\n",
            "\n"
          ]
        },
        {
          "name": "stderr",
          "output_type": "stream",
          "text": [
            "                                                                \r"
          ]
        },
        {
          "name": "stdout",
          "output_type": "stream",
          "text": [
            "Moviepy - Done !\n",
            "Moviepy - video ready /Users/alexbuyan/projects/Practical_RL/week01_intro/videos/rl-video-episode-76.mp4\n",
            "Moviepy - Building video /Users/alexbuyan/projects/Practical_RL/week01_intro/videos/rl-video-episode-77.mp4.\n",
            "Moviepy - Writing video /Users/alexbuyan/projects/Practical_RL/week01_intro/videos/rl-video-episode-77.mp4\n",
            "\n"
          ]
        },
        {
          "name": "stderr",
          "output_type": "stream",
          "text": [
            "                                                                \r"
          ]
        },
        {
          "name": "stdout",
          "output_type": "stream",
          "text": [
            "Moviepy - Done !\n",
            "Moviepy - video ready /Users/alexbuyan/projects/Practical_RL/week01_intro/videos/rl-video-episode-77.mp4\n",
            "Moviepy - Building video /Users/alexbuyan/projects/Practical_RL/week01_intro/videos/rl-video-episode-78.mp4.\n",
            "Moviepy - Writing video /Users/alexbuyan/projects/Practical_RL/week01_intro/videos/rl-video-episode-78.mp4\n",
            "\n"
          ]
        },
        {
          "name": "stderr",
          "output_type": "stream",
          "text": [
            "                                                    \r"
          ]
        },
        {
          "name": "stdout",
          "output_type": "stream",
          "text": [
            "Moviepy - Done !\n",
            "Moviepy - video ready /Users/alexbuyan/projects/Practical_RL/week01_intro/videos/rl-video-episode-78.mp4\n",
            "Moviepy - Building video /Users/alexbuyan/projects/Practical_RL/week01_intro/videos/rl-video-episode-79.mp4.\n",
            "Moviepy - Writing video /Users/alexbuyan/projects/Practical_RL/week01_intro/videos/rl-video-episode-79.mp4\n",
            "\n"
          ]
        },
        {
          "name": "stderr",
          "output_type": "stream",
          "text": [
            "                                                                \r"
          ]
        },
        {
          "name": "stdout",
          "output_type": "stream",
          "text": [
            "Moviepy - Done !\n",
            "Moviepy - video ready /Users/alexbuyan/projects/Practical_RL/week01_intro/videos/rl-video-episode-79.mp4\n",
            "Moviepy - Building video /Users/alexbuyan/projects/Practical_RL/week01_intro/videos/rl-video-episode-80.mp4.\n",
            "Moviepy - Writing video /Users/alexbuyan/projects/Practical_RL/week01_intro/videos/rl-video-episode-80.mp4\n",
            "\n"
          ]
        },
        {
          "name": "stderr",
          "output_type": "stream",
          "text": [
            "                                                                \r"
          ]
        },
        {
          "name": "stdout",
          "output_type": "stream",
          "text": [
            "Moviepy - Done !\n",
            "Moviepy - video ready /Users/alexbuyan/projects/Practical_RL/week01_intro/videos/rl-video-episode-80.mp4\n",
            "Moviepy - Building video /Users/alexbuyan/projects/Practical_RL/week01_intro/videos/rl-video-episode-81.mp4.\n",
            "Moviepy - Writing video /Users/alexbuyan/projects/Practical_RL/week01_intro/videos/rl-video-episode-81.mp4\n",
            "\n"
          ]
        },
        {
          "name": "stderr",
          "output_type": "stream",
          "text": [
            "                                                                \r"
          ]
        },
        {
          "name": "stdout",
          "output_type": "stream",
          "text": [
            "Moviepy - Done !\n",
            "Moviepy - video ready /Users/alexbuyan/projects/Practical_RL/week01_intro/videos/rl-video-episode-81.mp4\n",
            "Moviepy - Building video /Users/alexbuyan/projects/Practical_RL/week01_intro/videos/rl-video-episode-82.mp4.\n",
            "Moviepy - Writing video /Users/alexbuyan/projects/Practical_RL/week01_intro/videos/rl-video-episode-82.mp4\n",
            "\n"
          ]
        },
        {
          "name": "stderr",
          "output_type": "stream",
          "text": [
            "                                                                \r"
          ]
        },
        {
          "name": "stdout",
          "output_type": "stream",
          "text": [
            "Moviepy - Done !\n",
            "Moviepy - video ready /Users/alexbuyan/projects/Practical_RL/week01_intro/videos/rl-video-episode-82.mp4\n",
            "Moviepy - Building video /Users/alexbuyan/projects/Practical_RL/week01_intro/videos/rl-video-episode-83.mp4.\n",
            "Moviepy - Writing video /Users/alexbuyan/projects/Practical_RL/week01_intro/videos/rl-video-episode-83.mp4\n",
            "\n"
          ]
        },
        {
          "name": "stderr",
          "output_type": "stream",
          "text": [
            "                                                                \r"
          ]
        },
        {
          "name": "stdout",
          "output_type": "stream",
          "text": [
            "Moviepy - Done !\n",
            "Moviepy - video ready /Users/alexbuyan/projects/Practical_RL/week01_intro/videos/rl-video-episode-83.mp4\n",
            "Moviepy - Building video /Users/alexbuyan/projects/Practical_RL/week01_intro/videos/rl-video-episode-84.mp4.\n",
            "Moviepy - Writing video /Users/alexbuyan/projects/Practical_RL/week01_intro/videos/rl-video-episode-84.mp4\n",
            "\n"
          ]
        },
        {
          "name": "stderr",
          "output_type": "stream",
          "text": [
            "                                                                \r"
          ]
        },
        {
          "name": "stdout",
          "output_type": "stream",
          "text": [
            "Moviepy - Done !\n",
            "Moviepy - video ready /Users/alexbuyan/projects/Practical_RL/week01_intro/videos/rl-video-episode-84.mp4\n",
            "Moviepy - Building video /Users/alexbuyan/projects/Practical_RL/week01_intro/videos/rl-video-episode-85.mp4.\n",
            "Moviepy - Writing video /Users/alexbuyan/projects/Practical_RL/week01_intro/videos/rl-video-episode-85.mp4\n",
            "\n"
          ]
        },
        {
          "name": "stderr",
          "output_type": "stream",
          "text": [
            "                                                                \r"
          ]
        },
        {
          "name": "stdout",
          "output_type": "stream",
          "text": [
            "Moviepy - Done !\n",
            "Moviepy - video ready /Users/alexbuyan/projects/Practical_RL/week01_intro/videos/rl-video-episode-85.mp4\n",
            "Moviepy - Building video /Users/alexbuyan/projects/Practical_RL/week01_intro/videos/rl-video-episode-86.mp4.\n",
            "Moviepy - Writing video /Users/alexbuyan/projects/Practical_RL/week01_intro/videos/rl-video-episode-86.mp4\n",
            "\n"
          ]
        },
        {
          "name": "stderr",
          "output_type": "stream",
          "text": [
            "                                                                \r"
          ]
        },
        {
          "name": "stdout",
          "output_type": "stream",
          "text": [
            "Moviepy - Done !\n",
            "Moviepy - video ready /Users/alexbuyan/projects/Practical_RL/week01_intro/videos/rl-video-episode-86.mp4\n",
            "Moviepy - Building video /Users/alexbuyan/projects/Practical_RL/week01_intro/videos/rl-video-episode-87.mp4.\n",
            "Moviepy - Writing video /Users/alexbuyan/projects/Practical_RL/week01_intro/videos/rl-video-episode-87.mp4\n",
            "\n"
          ]
        },
        {
          "name": "stderr",
          "output_type": "stream",
          "text": [
            "                                                                \r"
          ]
        },
        {
          "name": "stdout",
          "output_type": "stream",
          "text": [
            "Moviepy - Done !\n",
            "Moviepy - video ready /Users/alexbuyan/projects/Practical_RL/week01_intro/videos/rl-video-episode-87.mp4\n",
            "Moviepy - Building video /Users/alexbuyan/projects/Practical_RL/week01_intro/videos/rl-video-episode-88.mp4.\n",
            "Moviepy - Writing video /Users/alexbuyan/projects/Practical_RL/week01_intro/videos/rl-video-episode-88.mp4\n",
            "\n"
          ]
        },
        {
          "name": "stderr",
          "output_type": "stream",
          "text": [
            "                                                                \r"
          ]
        },
        {
          "name": "stdout",
          "output_type": "stream",
          "text": [
            "Moviepy - Done !\n",
            "Moviepy - video ready /Users/alexbuyan/projects/Practical_RL/week01_intro/videos/rl-video-episode-88.mp4\n",
            "Moviepy - Building video /Users/alexbuyan/projects/Practical_RL/week01_intro/videos/rl-video-episode-89.mp4.\n",
            "Moviepy - Writing video /Users/alexbuyan/projects/Practical_RL/week01_intro/videos/rl-video-episode-89.mp4\n",
            "\n"
          ]
        },
        {
          "name": "stderr",
          "output_type": "stream",
          "text": [
            "                                                                \r"
          ]
        },
        {
          "name": "stdout",
          "output_type": "stream",
          "text": [
            "Moviepy - Done !\n",
            "Moviepy - video ready /Users/alexbuyan/projects/Practical_RL/week01_intro/videos/rl-video-episode-89.mp4\n",
            "Moviepy - Building video /Users/alexbuyan/projects/Practical_RL/week01_intro/videos/rl-video-episode-90.mp4.\n",
            "Moviepy - Writing video /Users/alexbuyan/projects/Practical_RL/week01_intro/videos/rl-video-episode-90.mp4\n",
            "\n"
          ]
        },
        {
          "name": "stderr",
          "output_type": "stream",
          "text": [
            "                                                                \r"
          ]
        },
        {
          "name": "stdout",
          "output_type": "stream",
          "text": [
            "Moviepy - Done !\n",
            "Moviepy - video ready /Users/alexbuyan/projects/Practical_RL/week01_intro/videos/rl-video-episode-90.mp4\n",
            "Moviepy - Building video /Users/alexbuyan/projects/Practical_RL/week01_intro/videos/rl-video-episode-91.mp4.\n",
            "Moviepy - Writing video /Users/alexbuyan/projects/Practical_RL/week01_intro/videos/rl-video-episode-91.mp4\n",
            "\n"
          ]
        },
        {
          "name": "stderr",
          "output_type": "stream",
          "text": [
            "                                                                \r"
          ]
        },
        {
          "name": "stdout",
          "output_type": "stream",
          "text": [
            "Moviepy - Done !\n",
            "Moviepy - video ready /Users/alexbuyan/projects/Practical_RL/week01_intro/videos/rl-video-episode-91.mp4\n",
            "Moviepy - Building video /Users/alexbuyan/projects/Practical_RL/week01_intro/videos/rl-video-episode-92.mp4.\n",
            "Moviepy - Writing video /Users/alexbuyan/projects/Practical_RL/week01_intro/videos/rl-video-episode-92.mp4\n",
            "\n"
          ]
        },
        {
          "name": "stderr",
          "output_type": "stream",
          "text": [
            "                                                                \r"
          ]
        },
        {
          "name": "stdout",
          "output_type": "stream",
          "text": [
            "Moviepy - Done !\n",
            "Moviepy - video ready /Users/alexbuyan/projects/Practical_RL/week01_intro/videos/rl-video-episode-92.mp4\n",
            "Moviepy - Building video /Users/alexbuyan/projects/Practical_RL/week01_intro/videos/rl-video-episode-93.mp4.\n",
            "Moviepy - Writing video /Users/alexbuyan/projects/Practical_RL/week01_intro/videos/rl-video-episode-93.mp4\n",
            "\n"
          ]
        },
        {
          "name": "stderr",
          "output_type": "stream",
          "text": [
            "                                                    \r"
          ]
        },
        {
          "name": "stdout",
          "output_type": "stream",
          "text": [
            "Moviepy - Done !\n",
            "Moviepy - video ready /Users/alexbuyan/projects/Practical_RL/week01_intro/videos/rl-video-episode-93.mp4\n",
            "Moviepy - Building video /Users/alexbuyan/projects/Practical_RL/week01_intro/videos/rl-video-episode-94.mp4.\n",
            "Moviepy - Writing video /Users/alexbuyan/projects/Practical_RL/week01_intro/videos/rl-video-episode-94.mp4\n",
            "\n"
          ]
        },
        {
          "name": "stderr",
          "output_type": "stream",
          "text": [
            "                                                    \r"
          ]
        },
        {
          "name": "stdout",
          "output_type": "stream",
          "text": [
            "Moviepy - Done !\n",
            "Moviepy - video ready /Users/alexbuyan/projects/Practical_RL/week01_intro/videos/rl-video-episode-94.mp4\n",
            "Moviepy - Building video /Users/alexbuyan/projects/Practical_RL/week01_intro/videos/rl-video-episode-95.mp4.\n",
            "Moviepy - Writing video /Users/alexbuyan/projects/Practical_RL/week01_intro/videos/rl-video-episode-95.mp4\n",
            "\n"
          ]
        },
        {
          "name": "stderr",
          "output_type": "stream",
          "text": [
            "                                                                \r"
          ]
        },
        {
          "name": "stdout",
          "output_type": "stream",
          "text": [
            "Moviepy - Done !\n",
            "Moviepy - video ready /Users/alexbuyan/projects/Practical_RL/week01_intro/videos/rl-video-episode-95.mp4\n",
            "Moviepy - Building video /Users/alexbuyan/projects/Practical_RL/week01_intro/videos/rl-video-episode-96.mp4.\n",
            "Moviepy - Writing video /Users/alexbuyan/projects/Practical_RL/week01_intro/videos/rl-video-episode-96.mp4\n",
            "\n"
          ]
        },
        {
          "name": "stderr",
          "output_type": "stream",
          "text": [
            "                                                                \r"
          ]
        },
        {
          "name": "stdout",
          "output_type": "stream",
          "text": [
            "Moviepy - Done !\n",
            "Moviepy - video ready /Users/alexbuyan/projects/Practical_RL/week01_intro/videos/rl-video-episode-96.mp4\n",
            "Moviepy - Building video /Users/alexbuyan/projects/Practical_RL/week01_intro/videos/rl-video-episode-97.mp4.\n",
            "Moviepy - Writing video /Users/alexbuyan/projects/Practical_RL/week01_intro/videos/rl-video-episode-97.mp4\n",
            "\n"
          ]
        },
        {
          "name": "stderr",
          "output_type": "stream",
          "text": [
            "                                                                \r"
          ]
        },
        {
          "name": "stdout",
          "output_type": "stream",
          "text": [
            "Moviepy - Done !\n",
            "Moviepy - video ready /Users/alexbuyan/projects/Practical_RL/week01_intro/videos/rl-video-episode-97.mp4\n",
            "Moviepy - Building video /Users/alexbuyan/projects/Practical_RL/week01_intro/videos/rl-video-episode-98.mp4.\n",
            "Moviepy - Writing video /Users/alexbuyan/projects/Practical_RL/week01_intro/videos/rl-video-episode-98.mp4\n",
            "\n"
          ]
        },
        {
          "name": "stderr",
          "output_type": "stream",
          "text": [
            "                                                                \r"
          ]
        },
        {
          "name": "stdout",
          "output_type": "stream",
          "text": [
            "Moviepy - Done !\n",
            "Moviepy - video ready /Users/alexbuyan/projects/Practical_RL/week01_intro/videos/rl-video-episode-98.mp4\n",
            "Moviepy - Building video /Users/alexbuyan/projects/Practical_RL/week01_intro/videos/rl-video-episode-99.mp4.\n",
            "Moviepy - Writing video /Users/alexbuyan/projects/Practical_RL/week01_intro/videos/rl-video-episode-99.mp4\n",
            "\n"
          ]
        },
        {
          "name": "stderr",
          "output_type": "stream",
          "text": [
            "                                                                "
          ]
        },
        {
          "name": "stdout",
          "output_type": "stream",
          "text": [
            "Moviepy - Done !\n",
            "Moviepy - video ready /Users/alexbuyan/projects/Practical_RL/week01_intro/videos/rl-video-episode-99.mp4\n"
          ]
        },
        {
          "name": "stderr",
          "output_type": "stream",
          "text": [
            "\r"
          ]
        }
      ],
      "source": [
        "# Record sessions\n",
        "\n",
        "from gymnasium.wrappers import RecordVideo\n",
        "\n",
        "with RecordVideo(\n",
        "    env=gym.make(\"CartPole-v0\", render_mode=\"rgb_array\"),\n",
        "    video_folder=\"./videos\",\n",
        "    episode_trigger=lambda episode_number: True,\n",
        ") as env_monitor:\n",
        "    sessions = [generate_session(env_monitor, agent) for _ in range(100)]\n"
      ]
    },
    {
      "cell_type": "code",
      "execution_count": 14,
      "metadata": {
        "id": "kLPXdME7G9zN"
      },
      "outputs": [
        {
          "data": {
            "text/html": [
              "\n",
              "<video width=\"640\" height=\"480\" controls>\n",
              "  <source src=\"videos/rl-video-episode-99.mp4\" type=\"video/mp4\">\n",
              "</video>\n"
            ],
            "text/plain": [
              "<IPython.core.display.HTML object>"
            ]
          },
          "execution_count": 14,
          "metadata": {},
          "output_type": "execute_result"
        }
      ],
      "source": [
        "# Show video. This may not work in some setups. If it doesn't\n",
        "# work for you, you can download the videos and view them locally.\n",
        "\n",
        "from pathlib import Path\n",
        "from base64 import b64encode\n",
        "from IPython.display import HTML\n",
        "\n",
        "video_paths = sorted([s for s in Path(\"videos\").iterdir() if s.suffix == \".mp4\"])\n",
        "video_path = video_paths[-1]  # You can also try other indices\n",
        "\n",
        "if \"google.colab\" in sys.modules:\n",
        "    # https://stackoverflow.com/a/57378660/1214547\n",
        "    with video_path.open(\"rb\") as fp:\n",
        "        mp4 = fp.read()\n",
        "    data_url = \"data:video/mp4;base64,\" + b64encode(mp4).decode()\n",
        "else:\n",
        "    data_url = str(video_path)\n",
        "\n",
        "HTML(\n",
        "    \"\"\"\n",
        "<video width=\"640\" height=\"480\" controls>\n",
        "  <source src=\"{}\" type=\"video/mp4\">\n",
        "</video>\n",
        "\"\"\".format(\n",
        "        data_url\n",
        "    )\n",
        ")\n"
      ]
    },
    {
      "cell_type": "markdown",
      "metadata": {
        "id": "6d_3oOQ1G9zN"
      },
      "source": [
        "# Homework part I\n",
        "\n",
        "### Tabular crossentropy method\n",
        "\n",
        "You may have noticed that the taxi problem quickly converges from -100 to a near-optimal score and then descends back into -50/-100. This is in part because the environment has some innate randomness. Namely, the starting points of passenger/driver change from episode to episode.\n",
        "\n",
        "### Tasks\n",
        "- __1.1__ (2 pts) Find out how the algorithm performance changes if you use a different `percentile` and/or `n_sessions`. Provide here some figures so we can see how the hyperparameters influence the performance.\n",
        "- __1.2__ (1 pts) Tune the algorithm to end up with positive average score.\n",
        "\n",
        "It's okay to modify the existing code.\n"
      ]
    },
    {
      "cell_type": "markdown",
      "metadata": {
        "id": "L88LySiVG9zN"
      },
      "source": [
        "```<Describe what you did here>```"
      ]
    },
    {
      "cell_type": "markdown",
      "metadata": {
        "id": "7LpAJc4rG9zN"
      },
      "source": [
        "# Homework part II\n",
        "\n",
        "### Deep crossentropy method\n",
        "\n",
        "By this moment, you should have got enough score on [CartPole-v0](https://gymnasium.farama.org/environments/classic_control/cart_pole/) to consider it solved (see the link). It's time to try something harder.\n",
        "\n",
        "* if you have any trouble with CartPole-v0 and feel stuck, feel free to ask us or your peers for help.\n",
        "\n",
        "### Tasks\n",
        "\n",
        "* __2.1__ (3 pts) Pick one of environments: `MountainCar-v0` or `LunarLander-v2`.\n",
        "  * For MountainCar, get average reward of __at least -150__\n",
        "  * For LunarLander, get average reward of __at least +50__\n",
        "\n",
        "See the tips section below, it's kinda important.\n",
        "__Note:__ If your agent is below the target score, you'll still get some of the points depending on the result, so don't be afraid to submit it.\n",
        "  \n",
        "  \n",
        "* __2.2__ (up to 6 pts) Devise a way to speed up training against the default version\n",
        "  * Obvious improvement: use [`joblib`](https://joblib.readthedocs.io/en/latest/). However, note that you will probably need to spawn a new environment in each of the workers instead of passing it via pickling. (2 pts)\n",
        "  * Try re-using samples from 3-5 last iterations when computing threshold and training. (2 pts)\n",
        "  * Obtain __-100__ at `MountainCar-v0` or __+200__ at `LunarLander-v2` (2 pts). Feel free to experiment with hyperparameters, architectures, schedules etc.\n",
        "  \n",
        "__Please list what you did in Anytask submission form__. This reduces probability that somebody misses something.\n",
        "  \n",
        "  \n",
        "### Tips\n",
        "* Gymnasium pages: [MountainCar](https://gymnasium.farama.org/environments/classic_control/mountain_car/), [LunarLander](https://gymnasium.farama.org/environments/box2d/lunar_lander/)\n",
        "* Sessions for MountainCar may last for 10k+ ticks. Make sure ```t_max``` param is at least 10k.\n",
        " * Also it may be a good idea to cut rewards via \">\" and not \">=\". If 90% of your sessions get reward of -10k and 10% are better, than if you use percentile 20% as threshold, R >= threshold __fails to cut off bad sessions__ while R > threshold works alright.\n",
        "* _issue with gym_: Some versions of gym limit game time by 200 ticks. This will prevent cem training in most cases. Make sure your agent is able to play for the specified __t_max__, and if it isn't, try `env = gym.make(\"MountainCar-v0\").env` or otherwise get rid of TimeLimit wrapper.\n",
        "* If you use old _swig_ lib for LunarLander-v2, you may get an error. See this [issue](https://github.com/openai/gym/issues/100) for solution.\n",
        "* If it doesn't train, it's a good idea to plot reward distribution and record sessions: they may give you some clue. If they don't, call course staff :)\n",
        "* 20-neuron network is probably not enough, feel free to experiment.\n",
        "\n",
        "You may find the following snippet useful:"
      ]
    },
    {
      "cell_type": "code",
      "execution_count": null,
      "metadata": {
        "id": "qcjz-nm_G9zN"
      },
      "outputs": [],
      "source": [
        "def visualize_mountain_car(env, agent):\n",
        "    # Compute policy for all possible x and v (with discretization)\n",
        "    xs = np.linspace(env.min_position, env.max_position, 100)\n",
        "    vs = np.linspace(-env.max_speed, env.max_speed, 100)\n",
        "\n",
        "    grid = np.dstack(np.meshgrid(xs, vs[::-1])).transpose(1, 0, 2)\n",
        "    grid_flat = grid.reshape(len(xs) * len(vs), 2)\n",
        "    probs = (\n",
        "        agent.predict_proba(grid_flat).reshape(len(xs), len(vs), 3).transpose(1, 0, 2)\n",
        "    )\n",
        "\n",
        "    # # The above code is equivalent to the following:\n",
        "    # probs = np.empty((len(vs), len(xs), 3))\n",
        "    # for i, v in enumerate(vs[::-1]):\n",
        "    #     for j, x in enumerate(xs):\n",
        "    #         probs[i, j, :] = agent.predict_proba([[x, v]])[0]\n",
        "\n",
        "    # Draw policy\n",
        "    f, ax = plt.subplots(figsize=(7, 7))\n",
        "    ax.imshow(\n",
        "        probs,\n",
        "        extent=(env.min_position, env.max_position, -env.max_speed, env.max_speed),\n",
        "        aspect=\"auto\",\n",
        "    )\n",
        "    ax.set_title(\"Learned policy: red=left, green=nothing, blue=right\")\n",
        "    ax.set_xlabel(\"position (x)\")\n",
        "    ax.set_ylabel(\"velocity (v)\")\n",
        "\n",
        "    # Sample a trajectory and draw it\n",
        "    states, actions, _ = generate_session(env, agent)\n",
        "    states = np.array(states)\n",
        "    ax.plot(states[:, 0], states[:, 1], color=\"white\")\n",
        "\n",
        "    # Draw every 3rd action from the trajectory\n",
        "    for (x, v), a in zip(states[::3], actions[::3]):\n",
        "        if a == 0:\n",
        "            plt.arrow(x, v, -0.1, 0, color=\"white\", head_length=0.02)\n",
        "        elif a == 2:\n",
        "            plt.arrow(x, v, 0.1, 0, color=\"white\", head_length=0.02)\n",
        "\n",
        "\n",
        "with gym.make(\"MountainCar-v0\", render_mode=\"rgb_arrary\").env as env:\n",
        "    visualize_mountain_car(env, agent)\n"
      ]
    },
    {
      "cell_type": "markdown",
      "metadata": {
        "id": "Dzk41lDPG9zO"
      },
      "source": [
        "### Bonus tasks\n",
        "\n",
        "* __2.3 bonus__ (2 pts) Try to find a network architecture and training params that solve __both__ environments above (_Points depend on implementation. If you attempted this task, please mention it in Anytask submission._)\n",
        "\n",
        "* __2.4 bonus__ (4 pts) Solve continuous action space task with `MLPRegressor` or similar.\n",
        "  * Since your agent only predicts the \"expected\" action, you will have to add noise to ensure exploration.\n",
        "  * Choose one of [MountainCarContinuous-v0](https://gymnasium.farama.org/environments/classic_control/mountain_car_continuous/) (90+ pts to solve), [LunarLanderContinuous-v2](https://gymnasium.farama.org/environments/box2d/lunar_lander/) (`env = gym.make(\"LunarLander-v2\", continuous=True)`)(200+ pts to solve)\n",
        "  * 4 points for solving. Slightly less for getting some results below solution threshold. Note that discrete and continuous environments may have slightly different rules, aside from action spaces."
      ]
    }
  ],
  "metadata": {
    "colab": {
      "provenance": []
    },
    "kernelspec": {
      "display_name": "Python 3",
      "language": "python",
      "name": "python3"
    },
    "language_info": {
      "codemirror_mode": {
        "name": "ipython",
        "version": 3
      },
      "file_extension": ".py",
      "mimetype": "text/x-python",
      "name": "python",
      "nbconvert_exporter": "python",
      "pygments_lexer": "ipython3",
      "version": "3.11.7"
    }
  },
  "nbformat": 4,
  "nbformat_minor": 0
}
